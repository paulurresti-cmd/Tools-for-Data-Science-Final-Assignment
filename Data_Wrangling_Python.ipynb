{
  "metadata": {
    "kernelspec": {
      "name": "python",
      "display_name": "Python (Pyodide)",
      "language": "python"
    },
    "language_info": {
      "codemirror_mode": {
        "name": "python",
        "version": 3
      },
      "file_extension": ".py",
      "mimetype": "text/x-python",
      "name": "python",
      "nbconvert_exporter": "python",
      "pygments_lexer": "ipython3",
      "version": "3.8"
    }
  },
  "nbformat_minor": 4,
  "nbformat": 4,
  "cells": [
    {
      "cell_type": "code",
      "source": "import numpy as np\nimport pandas as pd\nimport matplotlib.pyplot as plt\n%matplotlib inline",
      "metadata": {
        "trusted": true
      },
      "outputs": [
        {
          "name": "stderr",
          "text": "<ipython-input-1-51e788afe6f2>:2: DeprecationWarning: \nPyarrow will become a required dependency of pandas in the next major release of pandas (pandas 3.0),\n(to allow more performant data types, such as the Arrow string type, and better interoperability with other libraries)\nbut was not found to be installed on your system.\nIf this would cause problems for you,\nplease provide us feedback at https://github.com/pandas-dev/pandas/issues/54466\n        \n  import pandas as pd\n",
          "output_type": "stream"
        }
      ],
      "execution_count": 1
    },
    {
      "cell_type": "code",
      "source": "from pyodide.http import pyfetch\n\nasync def download(url, filename):\n    response = await pyfetch(url)\n    if response.status == 200:\n        with open(filename, \"wb\") as f:\n            f.write(await response.bytes())",
      "metadata": {
        "trusted": true
      },
      "outputs": [],
      "execution_count": 2
    },
    {
      "cell_type": "code",
      "source": "file_path= \"https://cf-courses-data.s3.us.cloud-object-storage.appdomain.cloud/IBMDeveloperSkillsNetwork-DA0101EN-Coursera/laptop_pricing_dataset_mod1.csv\"",
      "metadata": {
        "trusted": true
      },
      "outputs": [],
      "execution_count": 3
    },
    {
      "cell_type": "code",
      "source": "await download(file_path, \"laptops.csv\")\nfile_name=\"laptops.csv\"",
      "metadata": {
        "trusted": true
      },
      "outputs": [],
      "execution_count": 4
    },
    {
      "cell_type": "code",
      "source": "df=pd.read_csv(file_name)",
      "metadata": {
        "trusted": true
      },
      "outputs": [],
      "execution_count": 5
    },
    {
      "cell_type": "code",
      "source": "print(df.info())",
      "metadata": {
        "trusted": true
      },
      "outputs": [
        {
          "name": "stdout",
          "text": "<class 'pandas.core.frame.DataFrame'>\nRangeIndex: 238 entries, 0 to 237\nData columns (total 13 columns):\n #   Column          Non-Null Count  Dtype  \n---  ------          --------------  -----  \n 0   Unnamed: 0      238 non-null    int64  \n 1   Manufacturer    238 non-null    object \n 2   Category        238 non-null    int64  \n 3   Screen          238 non-null    object \n 4   GPU             238 non-null    int64  \n 5   OS              238 non-null    int64  \n 6   CPU_core        238 non-null    int64  \n 7   Screen_Size_cm  234 non-null    float64\n 8   CPU_frequency   238 non-null    float64\n 9   RAM_GB          238 non-null    int64  \n 10  Storage_GB_SSD  238 non-null    int64  \n 11  Weight_kg       233 non-null    float64\n 12  Price           238 non-null    int64  \ndtypes: float64(3), int64(8), object(2)\nmemory usage: 22.4+ KB\nNone\n",
          "output_type": "stream"
        }
      ],
      "execution_count": 6
    },
    {
      "cell_type": "code",
      "source": "df.head()",
      "metadata": {
        "trusted": true
      },
      "outputs": [
        {
          "execution_count": 7,
          "output_type": "execute_result",
          "data": {
            "text/plain": "   Unnamed: 0 Manufacturer  Category     Screen  GPU  OS  CPU_core  \\\n0           0         Acer         4  IPS Panel    2   1         5   \n1           1         Dell         3    Full HD    1   1         3   \n2           2         Dell         3    Full HD    1   1         7   \n3           3         Dell         4  IPS Panel    2   1         5   \n4           4           HP         4    Full HD    2   1         7   \n\n   Screen_Size_cm  CPU_frequency  RAM_GB  Storage_GB_SSD  Weight_kg  Price  \n0          35.560            1.6       8             256       1.60    978  \n1          39.624            2.0       4             256       2.20    634  \n2          39.624            2.7       8             256       2.20    946  \n3          33.782            1.6       8             128       1.22   1244  \n4          39.624            1.8       8             256       1.91    837  ",
            "text/html": "<div>\n<style scoped>\n    .dataframe tbody tr th:only-of-type {\n        vertical-align: middle;\n    }\n\n    .dataframe tbody tr th {\n        vertical-align: top;\n    }\n\n    .dataframe thead th {\n        text-align: right;\n    }\n</style>\n<table border=\"1\" class=\"dataframe\">\n  <thead>\n    <tr style=\"text-align: right;\">\n      <th></th>\n      <th>Unnamed: 0</th>\n      <th>Manufacturer</th>\n      <th>Category</th>\n      <th>Screen</th>\n      <th>GPU</th>\n      <th>OS</th>\n      <th>CPU_core</th>\n      <th>Screen_Size_cm</th>\n      <th>CPU_frequency</th>\n      <th>RAM_GB</th>\n      <th>Storage_GB_SSD</th>\n      <th>Weight_kg</th>\n      <th>Price</th>\n    </tr>\n  </thead>\n  <tbody>\n    <tr>\n      <th>0</th>\n      <td>0</td>\n      <td>Acer</td>\n      <td>4</td>\n      <td>IPS Panel</td>\n      <td>2</td>\n      <td>1</td>\n      <td>5</td>\n      <td>35.560</td>\n      <td>1.6</td>\n      <td>8</td>\n      <td>256</td>\n      <td>1.60</td>\n      <td>978</td>\n    </tr>\n    <tr>\n      <th>1</th>\n      <td>1</td>\n      <td>Dell</td>\n      <td>3</td>\n      <td>Full HD</td>\n      <td>1</td>\n      <td>1</td>\n      <td>3</td>\n      <td>39.624</td>\n      <td>2.0</td>\n      <td>4</td>\n      <td>256</td>\n      <td>2.20</td>\n      <td>634</td>\n    </tr>\n    <tr>\n      <th>2</th>\n      <td>2</td>\n      <td>Dell</td>\n      <td>3</td>\n      <td>Full HD</td>\n      <td>1</td>\n      <td>1</td>\n      <td>7</td>\n      <td>39.624</td>\n      <td>2.7</td>\n      <td>8</td>\n      <td>256</td>\n      <td>2.20</td>\n      <td>946</td>\n    </tr>\n    <tr>\n      <th>3</th>\n      <td>3</td>\n      <td>Dell</td>\n      <td>4</td>\n      <td>IPS Panel</td>\n      <td>2</td>\n      <td>1</td>\n      <td>5</td>\n      <td>33.782</td>\n      <td>1.6</td>\n      <td>8</td>\n      <td>128</td>\n      <td>1.22</td>\n      <td>1244</td>\n    </tr>\n    <tr>\n      <th>4</th>\n      <td>4</td>\n      <td>HP</td>\n      <td>4</td>\n      <td>Full HD</td>\n      <td>2</td>\n      <td>1</td>\n      <td>7</td>\n      <td>39.624</td>\n      <td>1.8</td>\n      <td>8</td>\n      <td>256</td>\n      <td>1.91</td>\n      <td>837</td>\n    </tr>\n  </tbody>\n</table>\n</div>"
          },
          "metadata": {}
        }
      ],
      "execution_count": 7
    },
    {
      "cell_type": "code",
      "source": "df.columns.replace(\"Unnamed:0\":\"Null column\")",
      "metadata": {
        "trusted": true
      },
      "outputs": [
        {
          "ename": "<class 'SyntaxError'>",
          "evalue": "invalid syntax (<ipython-input-8-535031787a45>, line 1)",
          "traceback": [
            "\u001b[0;36m  Cell \u001b[0;32mIn[8], line 1\u001b[0;36m\u001b[0m\n\u001b[0;31m    df.columns.replace(\"Unnamed:0\":\"Null column\")\u001b[0m\n\u001b[0m                                  ^\u001b[0m\n\u001b[0;31mSyntaxError\u001b[0m\u001b[0;31m:\u001b[0m invalid syntax\n"
          ],
          "output_type": "error"
        }
      ],
      "execution_count": 8
    },
    {
      "cell_type": "code",
      "source": "df1=df.columns.replace(\"Unnamed:0\":\"Null column\")",
      "metadata": {
        "trusted": true
      },
      "outputs": [
        {
          "ename": "<class 'SyntaxError'>",
          "evalue": "invalid syntax (<ipython-input-9-de2c2676b093>, line 1)",
          "traceback": [
            "\u001b[0;36m  Cell \u001b[0;32mIn[9], line 1\u001b[0;36m\u001b[0m\n\u001b[0;31m    df1=df.columns.replace(\"Unnamed:0\":\"Null column\")\u001b[0m\n\u001b[0m                                      ^\u001b[0m\n\u001b[0;31mSyntaxError\u001b[0m\u001b[0;31m:\u001b[0m invalid syntax\n"
          ],
          "output_type": "error"
        }
      ],
      "execution_count": 9
    },
    {
      "cell_type": "code",
      "source": "df=df.rename(columns={\"Unnamed:0\":\"unrecognized\"})",
      "metadata": {
        "trusted": true
      },
      "outputs": [],
      "execution_count": 10
    },
    {
      "cell_type": "code",
      "source": "print(df())",
      "metadata": {
        "trusted": true
      },
      "outputs": [
        {
          "ename": "<class 'TypeError'>",
          "evalue": "'DataFrame' object is not callable",
          "traceback": [
            "\u001b[0;31m---------------------------------------------------------------------------\u001b[0m",
            "\u001b[0;31mTypeError\u001b[0m                                 Traceback (most recent call last)",
            "Cell \u001b[0;32mIn[11], line 1\u001b[0m\n\u001b[0;32m----> 1\u001b[0m \u001b[38;5;28mprint\u001b[39m(\u001b[43mdf\u001b[49m\u001b[43m(\u001b[49m\u001b[43m)\u001b[49m)\n",
            "\u001b[0;31mTypeError\u001b[0m: 'DataFrame' object is not callable"
          ],
          "output_type": "error"
        }
      ],
      "execution_count": 11
    },
    {
      "cell_type": "code",
      "source": "print(df.head(5))",
      "metadata": {
        "trusted": true
      },
      "outputs": [
        {
          "name": "stdout",
          "text": "   Unnamed: 0 Manufacturer  Category     Screen  GPU  OS  CPU_core  \\\n0           0         Acer         4  IPS Panel    2   1         5   \n1           1         Dell         3    Full HD    1   1         3   \n2           2         Dell         3    Full HD    1   1         7   \n3           3         Dell         4  IPS Panel    2   1         5   \n4           4           HP         4    Full HD    2   1         7   \n\n   Screen_Size_cm  CPU_frequency  RAM_GB  Storage_GB_SSD  Weight_kg  Price  \n0          35.560            1.6       8             256       1.60    978  \n1          39.624            2.0       4             256       2.20    634  \n2          39.624            2.7       8             256       2.20    946  \n3          33.782            1.6       8             128       1.22   1244  \n4          39.624            1.8       8             256       1.91    837  \n",
          "output_type": "stream"
        }
      ],
      "execution_count": 12
    },
    {
      "cell_type": "code",
      "source": "df=df.rename(columns={\"Unnamed: 0\":\"unrecognized\"})",
      "metadata": {
        "trusted": true
      },
      "outputs": [],
      "execution_count": 13
    },
    {
      "cell_type": "code",
      "source": "print(df.head(5))",
      "metadata": {
        "trusted": true
      },
      "outputs": [
        {
          "name": "stdout",
          "text": "   unrecognized Manufacturer  Category     Screen  GPU  OS  CPU_core  \\\n0             0         Acer         4  IPS Panel    2   1         5   \n1             1         Dell         3    Full HD    1   1         3   \n2             2         Dell         3    Full HD    1   1         7   \n3             3         Dell         4  IPS Panel    2   1         5   \n4             4           HP         4    Full HD    2   1         7   \n\n   Screen_Size_cm  CPU_frequency  RAM_GB  Storage_GB_SSD  Weight_kg  Price  \n0          35.560            1.6       8             256       1.60    978  \n1          39.624            2.0       4             256       2.20    634  \n2          39.624            2.7       8             256       2.20    946  \n3          33.782            1.6       8             128       1.22   1244  \n4          39.624            1.8       8             256       1.91    837  \n",
          "output_type": "stream"
        }
      ],
      "execution_count": 14
    },
    {
      "cell_type": "code",
      "source": "df=np.round(df[\"Screen_Size_cm\"])",
      "metadata": {
        "trusted": true
      },
      "outputs": [],
      "execution_count": 15
    },
    {
      "cell_type": "code",
      "source": "df.head(5)",
      "metadata": {
        "trusted": true
      },
      "outputs": [
        {
          "execution_count": 16,
          "output_type": "execute_result",
          "data": {
            "text/plain": "0    36.0\n1    40.0\n2    40.0\n3    34.0\n4    40.0\nName: Screen_Size_cm, dtype: float64"
          },
          "metadata": {}
        }
      ],
      "execution_count": 16
    },
    {
      "cell_type": "code",
      "source": "df=pd.read_csv(file_name)",
      "metadata": {
        "trusted": true
      },
      "outputs": [],
      "execution_count": 17
    },
    {
      "cell_type": "code",
      "source": "df.head(5)",
      "metadata": {
        "trusted": true
      },
      "outputs": [
        {
          "execution_count": 18,
          "output_type": "execute_result",
          "data": {
            "text/plain": "   Unnamed: 0 Manufacturer  Category     Screen  GPU  OS  CPU_core  \\\n0           0         Acer         4  IPS Panel    2   1         5   \n1           1         Dell         3    Full HD    1   1         3   \n2           2         Dell         3    Full HD    1   1         7   \n3           3         Dell         4  IPS Panel    2   1         5   \n4           4           HP         4    Full HD    2   1         7   \n\n   Screen_Size_cm  CPU_frequency  RAM_GB  Storage_GB_SSD  Weight_kg  Price  \n0          35.560            1.6       8             256       1.60    978  \n1          39.624            2.0       4             256       2.20    634  \n2          39.624            2.7       8             256       2.20    946  \n3          33.782            1.6       8             128       1.22   1244  \n4          39.624            1.8       8             256       1.91    837  ",
            "text/html": "<div>\n<style scoped>\n    .dataframe tbody tr th:only-of-type {\n        vertical-align: middle;\n    }\n\n    .dataframe tbody tr th {\n        vertical-align: top;\n    }\n\n    .dataframe thead th {\n        text-align: right;\n    }\n</style>\n<table border=\"1\" class=\"dataframe\">\n  <thead>\n    <tr style=\"text-align: right;\">\n      <th></th>\n      <th>Unnamed: 0</th>\n      <th>Manufacturer</th>\n      <th>Category</th>\n      <th>Screen</th>\n      <th>GPU</th>\n      <th>OS</th>\n      <th>CPU_core</th>\n      <th>Screen_Size_cm</th>\n      <th>CPU_frequency</th>\n      <th>RAM_GB</th>\n      <th>Storage_GB_SSD</th>\n      <th>Weight_kg</th>\n      <th>Price</th>\n    </tr>\n  </thead>\n  <tbody>\n    <tr>\n      <th>0</th>\n      <td>0</td>\n      <td>Acer</td>\n      <td>4</td>\n      <td>IPS Panel</td>\n      <td>2</td>\n      <td>1</td>\n      <td>5</td>\n      <td>35.560</td>\n      <td>1.6</td>\n      <td>8</td>\n      <td>256</td>\n      <td>1.60</td>\n      <td>978</td>\n    </tr>\n    <tr>\n      <th>1</th>\n      <td>1</td>\n      <td>Dell</td>\n      <td>3</td>\n      <td>Full HD</td>\n      <td>1</td>\n      <td>1</td>\n      <td>3</td>\n      <td>39.624</td>\n      <td>2.0</td>\n      <td>4</td>\n      <td>256</td>\n      <td>2.20</td>\n      <td>634</td>\n    </tr>\n    <tr>\n      <th>2</th>\n      <td>2</td>\n      <td>Dell</td>\n      <td>3</td>\n      <td>Full HD</td>\n      <td>1</td>\n      <td>1</td>\n      <td>7</td>\n      <td>39.624</td>\n      <td>2.7</td>\n      <td>8</td>\n      <td>256</td>\n      <td>2.20</td>\n      <td>946</td>\n    </tr>\n    <tr>\n      <th>3</th>\n      <td>3</td>\n      <td>Dell</td>\n      <td>4</td>\n      <td>IPS Panel</td>\n      <td>2</td>\n      <td>1</td>\n      <td>5</td>\n      <td>33.782</td>\n      <td>1.6</td>\n      <td>8</td>\n      <td>128</td>\n      <td>1.22</td>\n      <td>1244</td>\n    </tr>\n    <tr>\n      <th>4</th>\n      <td>4</td>\n      <td>HP</td>\n      <td>4</td>\n      <td>Full HD</td>\n      <td>2</td>\n      <td>1</td>\n      <td>7</td>\n      <td>39.624</td>\n      <td>1.8</td>\n      <td>8</td>\n      <td>256</td>\n      <td>1.91</td>\n      <td>837</td>\n    </tr>\n  </tbody>\n</table>\n</div>"
          },
          "metadata": {}
        }
      ],
      "execution_count": 18
    },
    {
      "cell_type": "code",
      "source": "df=df.rename(columns=[\"Unnamed: 0\":\"unrecognized\"])",
      "metadata": {
        "trusted": true
      },
      "outputs": [
        {
          "ename": "<class 'SyntaxError'>",
          "evalue": "invalid syntax (<ipython-input-19-0e1c4bf74251>, line 1)",
          "traceback": [
            "\u001b[0;36m  Cell \u001b[0;32mIn[19], line 1\u001b[0;36m\u001b[0m\n\u001b[0;31m    df=df.rename(columns=[\"Unnamed: 0\":\"unrecognized\"])\u001b[0m\n\u001b[0m                                      ^\u001b[0m\n\u001b[0;31mSyntaxError\u001b[0m\u001b[0;31m:\u001b[0m invalid syntax\n"
          ],
          "output_type": "error"
        }
      ],
      "execution_count": 19
    },
    {
      "cell_type": "code",
      "source": "df=df.rename(columns={\"Unnamed: 0\":\"unrecognized\"})",
      "metadata": {
        "trusted": true
      },
      "outputs": [],
      "execution_count": 20
    },
    {
      "cell_type": "code",
      "source": "df.head(5)",
      "metadata": {
        "trusted": true
      },
      "outputs": [
        {
          "execution_count": 21,
          "output_type": "execute_result",
          "data": {
            "text/plain": "   unrecognized Manufacturer  Category     Screen  GPU  OS  CPU_core  \\\n0             0         Acer         4  IPS Panel    2   1         5   \n1             1         Dell         3    Full HD    1   1         3   \n2             2         Dell         3    Full HD    1   1         7   \n3             3         Dell         4  IPS Panel    2   1         5   \n4             4           HP         4    Full HD    2   1         7   \n\n   Screen_Size_cm  CPU_frequency  RAM_GB  Storage_GB_SSD  Weight_kg  Price  \n0          35.560            1.6       8             256       1.60    978  \n1          39.624            2.0       4             256       2.20    634  \n2          39.624            2.7       8             256       2.20    946  \n3          33.782            1.6       8             128       1.22   1244  \n4          39.624            1.8       8             256       1.91    837  ",
            "text/html": "<div>\n<style scoped>\n    .dataframe tbody tr th:only-of-type {\n        vertical-align: middle;\n    }\n\n    .dataframe tbody tr th {\n        vertical-align: top;\n    }\n\n    .dataframe thead th {\n        text-align: right;\n    }\n</style>\n<table border=\"1\" class=\"dataframe\">\n  <thead>\n    <tr style=\"text-align: right;\">\n      <th></th>\n      <th>unrecognized</th>\n      <th>Manufacturer</th>\n      <th>Category</th>\n      <th>Screen</th>\n      <th>GPU</th>\n      <th>OS</th>\n      <th>CPU_core</th>\n      <th>Screen_Size_cm</th>\n      <th>CPU_frequency</th>\n      <th>RAM_GB</th>\n      <th>Storage_GB_SSD</th>\n      <th>Weight_kg</th>\n      <th>Price</th>\n    </tr>\n  </thead>\n  <tbody>\n    <tr>\n      <th>0</th>\n      <td>0</td>\n      <td>Acer</td>\n      <td>4</td>\n      <td>IPS Panel</td>\n      <td>2</td>\n      <td>1</td>\n      <td>5</td>\n      <td>35.560</td>\n      <td>1.6</td>\n      <td>8</td>\n      <td>256</td>\n      <td>1.60</td>\n      <td>978</td>\n    </tr>\n    <tr>\n      <th>1</th>\n      <td>1</td>\n      <td>Dell</td>\n      <td>3</td>\n      <td>Full HD</td>\n      <td>1</td>\n      <td>1</td>\n      <td>3</td>\n      <td>39.624</td>\n      <td>2.0</td>\n      <td>4</td>\n      <td>256</td>\n      <td>2.20</td>\n      <td>634</td>\n    </tr>\n    <tr>\n      <th>2</th>\n      <td>2</td>\n      <td>Dell</td>\n      <td>3</td>\n      <td>Full HD</td>\n      <td>1</td>\n      <td>1</td>\n      <td>7</td>\n      <td>39.624</td>\n      <td>2.7</td>\n      <td>8</td>\n      <td>256</td>\n      <td>2.20</td>\n      <td>946</td>\n    </tr>\n    <tr>\n      <th>3</th>\n      <td>3</td>\n      <td>Dell</td>\n      <td>4</td>\n      <td>IPS Panel</td>\n      <td>2</td>\n      <td>1</td>\n      <td>5</td>\n      <td>33.782</td>\n      <td>1.6</td>\n      <td>8</td>\n      <td>128</td>\n      <td>1.22</td>\n      <td>1244</td>\n    </tr>\n    <tr>\n      <th>4</th>\n      <td>4</td>\n      <td>HP</td>\n      <td>4</td>\n      <td>Full HD</td>\n      <td>2</td>\n      <td>1</td>\n      <td>7</td>\n      <td>39.624</td>\n      <td>1.8</td>\n      <td>8</td>\n      <td>256</td>\n      <td>1.91</td>\n      <td>837</td>\n    </tr>\n  </tbody>\n</table>\n</div>"
          },
          "metadata": {}
        }
      ],
      "execution_count": 21
    },
    {
      "cell_type": "code",
      "source": "df[\"Screen_Size_cm\"]=np.round(df[\"Screen_Size_cm\"],2)",
      "metadata": {
        "trusted": true
      },
      "outputs": [],
      "execution_count": 22
    },
    {
      "cell_type": "code",
      "source": "df.head(5)",
      "metadata": {
        "trusted": true
      },
      "outputs": [
        {
          "execution_count": 23,
          "output_type": "execute_result",
          "data": {
            "text/plain": "   unrecognized Manufacturer  Category     Screen  GPU  OS  CPU_core  \\\n0             0         Acer         4  IPS Panel    2   1         5   \n1             1         Dell         3    Full HD    1   1         3   \n2             2         Dell         3    Full HD    1   1         7   \n3             3         Dell         4  IPS Panel    2   1         5   \n4             4           HP         4    Full HD    2   1         7   \n\n   Screen_Size_cm  CPU_frequency  RAM_GB  Storage_GB_SSD  Weight_kg  Price  \n0           35.56            1.6       8             256       1.60    978  \n1           39.62            2.0       4             256       2.20    634  \n2           39.62            2.7       8             256       2.20    946  \n3           33.78            1.6       8             128       1.22   1244  \n4           39.62            1.8       8             256       1.91    837  ",
            "text/html": "<div>\n<style scoped>\n    .dataframe tbody tr th:only-of-type {\n        vertical-align: middle;\n    }\n\n    .dataframe tbody tr th {\n        vertical-align: top;\n    }\n\n    .dataframe thead th {\n        text-align: right;\n    }\n</style>\n<table border=\"1\" class=\"dataframe\">\n  <thead>\n    <tr style=\"text-align: right;\">\n      <th></th>\n      <th>unrecognized</th>\n      <th>Manufacturer</th>\n      <th>Category</th>\n      <th>Screen</th>\n      <th>GPU</th>\n      <th>OS</th>\n      <th>CPU_core</th>\n      <th>Screen_Size_cm</th>\n      <th>CPU_frequency</th>\n      <th>RAM_GB</th>\n      <th>Storage_GB_SSD</th>\n      <th>Weight_kg</th>\n      <th>Price</th>\n    </tr>\n  </thead>\n  <tbody>\n    <tr>\n      <th>0</th>\n      <td>0</td>\n      <td>Acer</td>\n      <td>4</td>\n      <td>IPS Panel</td>\n      <td>2</td>\n      <td>1</td>\n      <td>5</td>\n      <td>35.56</td>\n      <td>1.6</td>\n      <td>8</td>\n      <td>256</td>\n      <td>1.60</td>\n      <td>978</td>\n    </tr>\n    <tr>\n      <th>1</th>\n      <td>1</td>\n      <td>Dell</td>\n      <td>3</td>\n      <td>Full HD</td>\n      <td>1</td>\n      <td>1</td>\n      <td>3</td>\n      <td>39.62</td>\n      <td>2.0</td>\n      <td>4</td>\n      <td>256</td>\n      <td>2.20</td>\n      <td>634</td>\n    </tr>\n    <tr>\n      <th>2</th>\n      <td>2</td>\n      <td>Dell</td>\n      <td>3</td>\n      <td>Full HD</td>\n      <td>1</td>\n      <td>1</td>\n      <td>7</td>\n      <td>39.62</td>\n      <td>2.7</td>\n      <td>8</td>\n      <td>256</td>\n      <td>2.20</td>\n      <td>946</td>\n    </tr>\n    <tr>\n      <th>3</th>\n      <td>3</td>\n      <td>Dell</td>\n      <td>4</td>\n      <td>IPS Panel</td>\n      <td>2</td>\n      <td>1</td>\n      <td>5</td>\n      <td>33.78</td>\n      <td>1.6</td>\n      <td>8</td>\n      <td>128</td>\n      <td>1.22</td>\n      <td>1244</td>\n    </tr>\n    <tr>\n      <th>4</th>\n      <td>4</td>\n      <td>HP</td>\n      <td>4</td>\n      <td>Full HD</td>\n      <td>2</td>\n      <td>1</td>\n      <td>7</td>\n      <td>39.62</td>\n      <td>1.8</td>\n      <td>8</td>\n      <td>256</td>\n      <td>1.91</td>\n      <td>837</td>\n    </tr>\n  </tbody>\n</table>\n</div>"
          },
          "metadata": {}
        }
      ],
      "execution_count": 23
    },
    {
      "cell_type": "code",
      "source": "#task1\n\ndf.replace('?',np.NaN,inplace=True)",
      "metadata": {
        "trusted": true
      },
      "outputs": [],
      "execution_count": 24
    },
    {
      "cell_type": "code",
      "source": "df.head(5)",
      "metadata": {
        "trusted": true
      },
      "outputs": [
        {
          "execution_count": 25,
          "output_type": "execute_result",
          "data": {
            "text/plain": "   unrecognized Manufacturer  Category     Screen  GPU  OS  CPU_core  \\\n0             0         Acer         4  IPS Panel    2   1         5   \n1             1         Dell         3    Full HD    1   1         3   \n2             2         Dell         3    Full HD    1   1         7   \n3             3         Dell         4  IPS Panel    2   1         5   \n4             4           HP         4    Full HD    2   1         7   \n\n   Screen_Size_cm  CPU_frequency  RAM_GB  Storage_GB_SSD  Weight_kg  Price  \n0           35.56            1.6       8             256       1.60    978  \n1           39.62            2.0       4             256       2.20    634  \n2           39.62            2.7       8             256       2.20    946  \n3           33.78            1.6       8             128       1.22   1244  \n4           39.62            1.8       8             256       1.91    837  ",
            "text/html": "<div>\n<style scoped>\n    .dataframe tbody tr th:only-of-type {\n        vertical-align: middle;\n    }\n\n    .dataframe tbody tr th {\n        vertical-align: top;\n    }\n\n    .dataframe thead th {\n        text-align: right;\n    }\n</style>\n<table border=\"1\" class=\"dataframe\">\n  <thead>\n    <tr style=\"text-align: right;\">\n      <th></th>\n      <th>unrecognized</th>\n      <th>Manufacturer</th>\n      <th>Category</th>\n      <th>Screen</th>\n      <th>GPU</th>\n      <th>OS</th>\n      <th>CPU_core</th>\n      <th>Screen_Size_cm</th>\n      <th>CPU_frequency</th>\n      <th>RAM_GB</th>\n      <th>Storage_GB_SSD</th>\n      <th>Weight_kg</th>\n      <th>Price</th>\n    </tr>\n  </thead>\n  <tbody>\n    <tr>\n      <th>0</th>\n      <td>0</td>\n      <td>Acer</td>\n      <td>4</td>\n      <td>IPS Panel</td>\n      <td>2</td>\n      <td>1</td>\n      <td>5</td>\n      <td>35.56</td>\n      <td>1.6</td>\n      <td>8</td>\n      <td>256</td>\n      <td>1.60</td>\n      <td>978</td>\n    </tr>\n    <tr>\n      <th>1</th>\n      <td>1</td>\n      <td>Dell</td>\n      <td>3</td>\n      <td>Full HD</td>\n      <td>1</td>\n      <td>1</td>\n      <td>3</td>\n      <td>39.62</td>\n      <td>2.0</td>\n      <td>4</td>\n      <td>256</td>\n      <td>2.20</td>\n      <td>634</td>\n    </tr>\n    <tr>\n      <th>2</th>\n      <td>2</td>\n      <td>Dell</td>\n      <td>3</td>\n      <td>Full HD</td>\n      <td>1</td>\n      <td>1</td>\n      <td>7</td>\n      <td>39.62</td>\n      <td>2.7</td>\n      <td>8</td>\n      <td>256</td>\n      <td>2.20</td>\n      <td>946</td>\n    </tr>\n    <tr>\n      <th>3</th>\n      <td>3</td>\n      <td>Dell</td>\n      <td>4</td>\n      <td>IPS Panel</td>\n      <td>2</td>\n      <td>1</td>\n      <td>5</td>\n      <td>33.78</td>\n      <td>1.6</td>\n      <td>8</td>\n      <td>128</td>\n      <td>1.22</td>\n      <td>1244</td>\n    </tr>\n    <tr>\n      <th>4</th>\n      <td>4</td>\n      <td>HP</td>\n      <td>4</td>\n      <td>Full HD</td>\n      <td>2</td>\n      <td>1</td>\n      <td>7</td>\n      <td>39.62</td>\n      <td>1.8</td>\n      <td>8</td>\n      <td>256</td>\n      <td>1.91</td>\n      <td>837</td>\n    </tr>\n  </tbody>\n</table>\n</div>"
          },
          "metadata": {}
        }
      ],
      "execution_count": 25
    },
    {
      "cell_type": "code",
      "source": "missing_data=df.isnull()",
      "metadata": {
        "trusted": true
      },
      "outputs": [],
      "execution_count": 26
    },
    {
      "cell_type": "code",
      "source": "for column in missing_data.columns.values.tolist():\n    print(column)\n    print(missing_data)\n    print(\"\")",
      "metadata": {
        "trusted": true
      },
      "outputs": [
        {
          "name": "stdout",
          "text": "unrecognized\n     unrecognized  Manufacturer  Category  Screen    GPU     OS  CPU_core  \\\n0           False         False     False   False  False  False     False   \n1           False         False     False   False  False  False     False   \n2           False         False     False   False  False  False     False   \n3           False         False     False   False  False  False     False   \n4           False         False     False   False  False  False     False   \n..            ...           ...       ...     ...    ...    ...       ...   \n233         False         False     False   False  False  False     False   \n234         False         False     False   False  False  False     False   \n235         False         False     False   False  False  False     False   \n236         False         False     False   False  False  False     False   \n237         False         False     False   False  False  False     False   \n\n     Screen_Size_cm  CPU_frequency  RAM_GB  Storage_GB_SSD  Weight_kg  Price  \n0             False          False   False           False      False  False  \n1             False          False   False           False      False  False  \n2             False          False   False           False      False  False  \n3             False          False   False           False      False  False  \n4             False          False   False           False      False  False  \n..              ...            ...     ...             ...        ...    ...  \n233           False          False   False           False      False  False  \n234           False          False   False           False      False  False  \n235           False          False   False           False      False  False  \n236           False          False   False           False      False  False  \n237           False          False   False           False      False  False  \n\n[238 rows x 13 columns]\n\nManufacturer\n     unrecognized  Manufacturer  Category  Screen    GPU     OS  CPU_core  \\\n0           False         False     False   False  False  False     False   \n1           False         False     False   False  False  False     False   \n2           False         False     False   False  False  False     False   \n3           False         False     False   False  False  False     False   \n4           False         False     False   False  False  False     False   \n..            ...           ...       ...     ...    ...    ...       ...   \n233         False         False     False   False  False  False     False   \n234         False         False     False   False  False  False     False   \n235         False         False     False   False  False  False     False   \n236         False         False     False   False  False  False     False   \n237         False         False     False   False  False  False     False   \n\n     Screen_Size_cm  CPU_frequency  RAM_GB  Storage_GB_SSD  Weight_kg  Price  \n0             False          False   False           False      False  False  \n1             False          False   False           False      False  False  \n2             False          False   False           False      False  False  \n3             False          False   False           False      False  False  \n4             False          False   False           False      False  False  \n..              ...            ...     ...             ...        ...    ...  \n233           False          False   False           False      False  False  \n234           False          False   False           False      False  False  \n235           False          False   False           False      False  False  \n236           False          False   False           False      False  False  \n237           False          False   False           False      False  False  \n\n[238 rows x 13 columns]\n\nCategory\n     unrecognized  Manufacturer  Category  Screen    GPU     OS  CPU_core  \\\n0           False         False     False   False  False  False     False   \n1           False         False     False   False  False  False     False   \n2           False         False     False   False  False  False     False   \n3           False         False     False   False  False  False     False   \n4           False         False     False   False  False  False     False   \n..            ...           ...       ...     ...    ...    ...       ...   \n233         False         False     False   False  False  False     False   \n234         False         False     False   False  False  False     False   \n235         False         False     False   False  False  False     False   \n236         False         False     False   False  False  False     False   \n237         False         False     False   False  False  False     False   \n\n     Screen_Size_cm  CPU_frequency  RAM_GB  Storage_GB_SSD  Weight_kg  Price  \n0             False          False   False           False      False  False  \n1             False          False   False           False      False  False  \n2             False          False   False           False      False  False  \n3             False          False   False           False      False  False  \n4             False          False   False           False      False  False  \n..              ...            ...     ...             ...        ...    ...  \n233           False          False   False           False      False  False  \n234           False          False   False           False      False  False  \n235           False          False   False           False      False  False  \n236           False          False   False           False      False  False  \n237           False          False   False           False      False  False  \n\n[238 rows x 13 columns]\n\nScreen\n     unrecognized  Manufacturer  Category  Screen    GPU     OS  CPU_core  \\\n0           False         False     False   False  False  False     False   \n1           False         False     False   False  False  False     False   \n2           False         False     False   False  False  False     False   \n3           False         False     False   False  False  False     False   \n4           False         False     False   False  False  False     False   \n..            ...           ...       ...     ...    ...    ...       ...   \n233         False         False     False   False  False  False     False   \n234         False         False     False   False  False  False     False   \n235         False         False     False   False  False  False     False   \n236         False         False     False   False  False  False     False   \n237         False         False     False   False  False  False     False   \n\n     Screen_Size_cm  CPU_frequency  RAM_GB  Storage_GB_SSD  Weight_kg  Price  \n0             False          False   False           False      False  False  \n1             False          False   False           False      False  False  \n2             False          False   False           False      False  False  \n3             False          False   False           False      False  False  \n4             False          False   False           False      False  False  \n..              ...            ...     ...             ...        ...    ...  \n233           False          False   False           False      False  False  \n234           False          False   False           False      False  False  \n235           False          False   False           False      False  False  \n236           False          False   False           False      False  False  \n237           False          False   False           False      False  False  \n\n[238 rows x 13 columns]\n\nGPU\n     unrecognized  Manufacturer  Category  Screen    GPU     OS  CPU_core  \\\n0           False         False     False   False  False  False     False   \n1           False         False     False   False  False  False     False   \n2           False         False     False   False  False  False     False   \n3           False         False     False   False  False  False     False   \n4           False         False     False   False  False  False     False   \n..            ...           ...       ...     ...    ...    ...       ...   \n233         False         False     False   False  False  False     False   \n234         False         False     False   False  False  False     False   \n235         False         False     False   False  False  False     False   \n236         False         False     False   False  False  False     False   \n237         False         False     False   False  False  False     False   \n\n     Screen_Size_cm  CPU_frequency  RAM_GB  Storage_GB_SSD  Weight_kg  Price  \n0             False          False   False           False      False  False  \n1             False          False   False           False      False  False  \n2             False          False   False           False      False  False  \n3             False          False   False           False      False  False  \n4             False          False   False           False      False  False  \n..              ...            ...     ...             ...        ...    ...  \n233           False          False   False           False      False  False  \n234           False          False   False           False      False  False  \n235           False          False   False           False      False  False  \n236           False          False   False           False      False  False  \n237           False          False   False           False      False  False  \n\n[238 rows x 13 columns]\n\nOS\n     unrecognized  Manufacturer  Category  Screen    GPU     OS  CPU_core  \\\n0           False         False     False   False  False  False     False   \n1           False         False     False   False  False  False     False   \n2           False         False     False   False  False  False     False   \n3           False         False     False   False  False  False     False   \n4           False         False     False   False  False  False     False   \n..            ...           ...       ...     ...    ...    ...       ...   \n233         False         False     False   False  False  False     False   \n234         False         False     False   False  False  False     False   \n235         False         False     False   False  False  False     False   \n236         False         False     False   False  False  False     False   \n237         False         False     False   False  False  False     False   \n\n     Screen_Size_cm  CPU_frequency  RAM_GB  Storage_GB_SSD  Weight_kg  Price  \n0             False          False   False           False      False  False  \n1             False          False   False           False      False  False  \n2             False          False   False           False      False  False  \n3             False          False   False           False      False  False  \n4             False          False   False           False      False  False  \n..              ...            ...     ...             ...        ...    ...  \n233           False          False   False           False      False  False  \n234           False          False   False           False      False  False  \n235           False          False   False           False      False  False  \n236           False          False   False           False      False  False  \n237           False          False   False           False      False  False  \n\n[238 rows x 13 columns]\n\nCPU_core\n     unrecognized  Manufacturer  Category  Screen    GPU     OS  CPU_core  \\\n0           False         False     False   False  False  False     False   \n1           False         False     False   False  False  False     False   \n2           False         False     False   False  False  False     False   \n3           False         False     False   False  False  False     False   \n4           False         False     False   False  False  False     False   \n..            ...           ...       ...     ...    ...    ...       ...   \n233         False         False     False   False  False  False     False   \n234         False         False     False   False  False  False     False   \n235         False         False     False   False  False  False     False   \n236         False         False     False   False  False  False     False   \n237         False         False     False   False  False  False     False   \n\n     Screen_Size_cm  CPU_frequency  RAM_GB  Storage_GB_SSD  Weight_kg  Price  \n0             False          False   False           False      False  False  \n1             False          False   False           False      False  False  \n2             False          False   False           False      False  False  \n3             False          False   False           False      False  False  \n4             False          False   False           False      False  False  \n..              ...            ...     ...             ...        ...    ...  \n233           False          False   False           False      False  False  \n234           False          False   False           False      False  False  \n235           False          False   False           False      False  False  \n236           False          False   False           False      False  False  \n237           False          False   False           False      False  False  \n\n[238 rows x 13 columns]\n\nScreen_Size_cm\n     unrecognized  Manufacturer  Category  Screen    GPU     OS  CPU_core  \\\n0           False         False     False   False  False  False     False   \n1           False         False     False   False  False  False     False   \n2           False         False     False   False  False  False     False   \n3           False         False     False   False  False  False     False   \n4           False         False     False   False  False  False     False   \n..            ...           ...       ...     ...    ...    ...       ...   \n233         False         False     False   False  False  False     False   \n234         False         False     False   False  False  False     False   \n235         False         False     False   False  False  False     False   \n236         False         False     False   False  False  False     False   \n237         False         False     False   False  False  False     False   \n\n     Screen_Size_cm  CPU_frequency  RAM_GB  Storage_GB_SSD  Weight_kg  Price  \n0             False          False   False           False      False  False  \n1             False          False   False           False      False  False  \n2             False          False   False           False      False  False  \n3             False          False   False           False      False  False  \n4             False          False   False           False      False  False  \n..              ...            ...     ...             ...        ...    ...  \n233           False          False   False           False      False  False  \n234           False          False   False           False      False  False  \n235           False          False   False           False      False  False  \n236           False          False   False           False      False  False  \n237           False          False   False           False      False  False  \n\n[238 rows x 13 columns]\n\nCPU_frequency\n     unrecognized  Manufacturer  Category  Screen    GPU     OS  CPU_core  \\\n0           False         False     False   False  False  False     False   \n1           False         False     False   False  False  False     False   \n2           False         False     False   False  False  False     False   \n3           False         False     False   False  False  False     False   \n4           False         False     False   False  False  False     False   \n..            ...           ...       ...     ...    ...    ...       ...   \n233         False         False     False   False  False  False     False   \n234         False         False     False   False  False  False     False   \n235         False         False     False   False  False  False     False   \n236         False         False     False   False  False  False     False   \n237         False         False     False   False  False  False     False   \n\n     Screen_Size_cm  CPU_frequency  RAM_GB  Storage_GB_SSD  Weight_kg  Price  \n0             False          False   False           False      False  False  \n1             False          False   False           False      False  False  \n2             False          False   False           False      False  False  \n3             False          False   False           False      False  False  \n4             False          False   False           False      False  False  \n..              ...            ...     ...             ...        ...    ...  \n233           False          False   False           False      False  False  \n234           False          False   False           False      False  False  \n235           False          False   False           False      False  False  \n236           False          False   False           False      False  False  \n237           False          False   False           False      False  False  \n\n[238 rows x 13 columns]\n\nRAM_GB\n     unrecognized  Manufacturer  Category  Screen    GPU     OS  CPU_core  \\\n0           False         False     False   False  False  False     False   \n1           False         False     False   False  False  False     False   \n2           False         False     False   False  False  False     False   \n3           False         False     False   False  False  False     False   \n4           False         False     False   False  False  False     False   \n..            ...           ...       ...     ...    ...    ...       ...   \n233         False         False     False   False  False  False     False   \n234         False         False     False   False  False  False     False   \n235         False         False     False   False  False  False     False   \n236         False         False     False   False  False  False     False   \n237         False         False     False   False  False  False     False   \n\n     Screen_Size_cm  CPU_frequency  RAM_GB  Storage_GB_SSD  Weight_kg  Price  \n0             False          False   False           False      False  False  \n1             False          False   False           False      False  False  \n2             False          False   False           False      False  False  \n3             False          False   False           False      False  False  \n4             False          False   False           False      False  False  \n..              ...            ...     ...             ...        ...    ...  \n233           False          False   False           False      False  False  \n234           False          False   False           False      False  False  \n235           False          False   False           False      False  False  \n236           False          False   False           False      False  False  \n237           False          False   False           False      False  False  \n\n[238 rows x 13 columns]\n\nStorage_GB_SSD\n     unrecognized  Manufacturer  Category  Screen    GPU     OS  CPU_core  \\\n0           False         False     False   False  False  False     False   \n1           False         False     False   False  False  False     False   \n2           False         False     False   False  False  False     False   \n3           False         False     False   False  False  False     False   \n4           False         False     False   False  False  False     False   \n..            ...           ...       ...     ...    ...    ...       ...   \n233         False         False     False   False  False  False     False   \n234         False         False     False   False  False  False     False   \n235         False         False     False   False  False  False     False   \n236         False         False     False   False  False  False     False   \n237         False         False     False   False  False  False     False   \n\n     Screen_Size_cm  CPU_frequency  RAM_GB  Storage_GB_SSD  Weight_kg  Price  \n0             False          False   False           False      False  False  \n1             False          False   False           False      False  False  \n2             False          False   False           False      False  False  \n3             False          False   False           False      False  False  \n4             False          False   False           False      False  False  \n..              ...            ...     ...             ...        ...    ...  \n233           False          False   False           False      False  False  \n234           False          False   False           False      False  False  \n235           False          False   False           False      False  False  \n236           False          False   False           False      False  False  \n237           False          False   False           False      False  False  \n\n[238 rows x 13 columns]\n\nWeight_kg\n     unrecognized  Manufacturer  Category  Screen    GPU     OS  CPU_core  \\\n0           False         False     False   False  False  False     False   \n1           False         False     False   False  False  False     False   \n2           False         False     False   False  False  False     False   \n3           False         False     False   False  False  False     False   \n4           False         False     False   False  False  False     False   \n..            ...           ...       ...     ...    ...    ...       ...   \n233         False         False     False   False  False  False     False   \n234         False         False     False   False  False  False     False   \n235         False         False     False   False  False  False     False   \n236         False         False     False   False  False  False     False   \n237         False         False     False   False  False  False     False   \n\n     Screen_Size_cm  CPU_frequency  RAM_GB  Storage_GB_SSD  Weight_kg  Price  \n0             False          False   False           False      False  False  \n1             False          False   False           False      False  False  \n2             False          False   False           False      False  False  \n3             False          False   False           False      False  False  \n4             False          False   False           False      False  False  \n..              ...            ...     ...             ...        ...    ...  \n233           False          False   False           False      False  False  \n234           False          False   False           False      False  False  \n235           False          False   False           False      False  False  \n236           False          False   False           False      False  False  \n237           False          False   False           False      False  False  \n\n[238 rows x 13 columns]\n\nPrice\n     unrecognized  Manufacturer  Category  Screen    GPU     OS  CPU_core  \\\n0           False         False     False   False  False  False     False   \n1           False         False     False   False  False  False     False   \n2           False         False     False   False  False  False     False   \n3           False         False     False   False  False  False     False   \n4           False         False     False   False  False  False     False   \n..            ...           ...       ...     ...    ...    ...       ...   \n233         False         False     False   False  False  False     False   \n234         False         False     False   False  False  False     False   \n235         False         False     False   False  False  False     False   \n236         False         False     False   False  False  False     False   \n237         False         False     False   False  False  False     False   \n\n     Screen_Size_cm  CPU_frequency  RAM_GB  Storage_GB_SSD  Weight_kg  Price  \n0             False          False   False           False      False  False  \n1             False          False   False           False      False  False  \n2             False          False   False           False      False  False  \n3             False          False   False           False      False  False  \n4             False          False   False           False      False  False  \n..              ...            ...     ...             ...        ...    ...  \n233           False          False   False           False      False  False  \n234           False          False   False           False      False  False  \n235           False          False   False           False      False  False  \n236           False          False   False           False      False  False  \n237           False          False   False           False      False  False  \n\n[238 rows x 13 columns]\n\n",
          "output_type": "stream"
        }
      ],
      "execution_count": 27
    },
    {
      "cell_type": "code",
      "source": "for column in missing_data.columns.values.tolist():\n    print(column)\n    print(missing_data.value_counts())\n    print(\"\")",
      "metadata": {
        "trusted": true
      },
      "outputs": [
        {
          "name": "stdout",
          "text": "unrecognized\nunrecognized  Manufacturer  Category  Screen  GPU    OS     CPU_core  Screen_Size_cm  CPU_frequency  RAM_GB  Storage_GB_SSD  Weight_kg  Price\nFalse         False         False     False   False  False  False     False           False          False   False           False      False    229\n                                                                                                                             True       False      5\n                                                                      True            False          False   False           False      False      4\nName: count, dtype: int64\n\nManufacturer\nunrecognized  Manufacturer  Category  Screen  GPU    OS     CPU_core  Screen_Size_cm  CPU_frequency  RAM_GB  Storage_GB_SSD  Weight_kg  Price\nFalse         False         False     False   False  False  False     False           False          False   False           False      False    229\n                                                                                                                             True       False      5\n                                                                      True            False          False   False           False      False      4\nName: count, dtype: int64\n\nCategory\nunrecognized  Manufacturer  Category  Screen  GPU    OS     CPU_core  Screen_Size_cm  CPU_frequency  RAM_GB  Storage_GB_SSD  Weight_kg  Price\nFalse         False         False     False   False  False  False     False           False          False   False           False      False    229\n                                                                                                                             True       False      5\n                                                                      True            False          False   False           False      False      4\nName: count, dtype: int64\n\nScreen\nunrecognized  Manufacturer  Category  Screen  GPU    OS     CPU_core  Screen_Size_cm  CPU_frequency  RAM_GB  Storage_GB_SSD  Weight_kg  Price\nFalse         False         False     False   False  False  False     False           False          False   False           False      False    229\n                                                                                                                             True       False      5\n                                                                      True            False          False   False           False      False      4\nName: count, dtype: int64\n\nGPU\nunrecognized  Manufacturer  Category  Screen  GPU    OS     CPU_core  Screen_Size_cm  CPU_frequency  RAM_GB  Storage_GB_SSD  Weight_kg  Price\nFalse         False         False     False   False  False  False     False           False          False   False           False      False    229\n                                                                                                                             True       False      5\n                                                                      True            False          False   False           False      False      4\nName: count, dtype: int64\n\nOS\nunrecognized  Manufacturer  Category  Screen  GPU    OS     CPU_core  Screen_Size_cm  CPU_frequency  RAM_GB  Storage_GB_SSD  Weight_kg  Price\nFalse         False         False     False   False  False  False     False           False          False   False           False      False    229\n                                                                                                                             True       False      5\n                                                                      True            False          False   False           False      False      4\nName: count, dtype: int64\n\nCPU_core\nunrecognized  Manufacturer  Category  Screen  GPU    OS     CPU_core  Screen_Size_cm  CPU_frequency  RAM_GB  Storage_GB_SSD  Weight_kg  Price\nFalse         False         False     False   False  False  False     False           False          False   False           False      False    229\n                                                                                                                             True       False      5\n                                                                      True            False          False   False           False      False      4\nName: count, dtype: int64\n\nScreen_Size_cm\nunrecognized  Manufacturer  Category  Screen  GPU    OS     CPU_core  Screen_Size_cm  CPU_frequency  RAM_GB  Storage_GB_SSD  Weight_kg  Price\nFalse         False         False     False   False  False  False     False           False          False   False           False      False    229\n                                                                                                                             True       False      5\n                                                                      True            False          False   False           False      False      4\nName: count, dtype: int64\n\nCPU_frequency\nunrecognized  Manufacturer  Category  Screen  GPU    OS     CPU_core  Screen_Size_cm  CPU_frequency  RAM_GB  Storage_GB_SSD  Weight_kg  Price\nFalse         False         False     False   False  False  False     False           False          False   False           False      False    229\n                                                                                                                             True       False      5\n                                                                      True            False          False   False           False      False      4\nName: count, dtype: int64\n\nRAM_GB\nunrecognized  Manufacturer  Category  Screen  GPU    OS     CPU_core  Screen_Size_cm  CPU_frequency  RAM_GB  Storage_GB_SSD  Weight_kg  Price\nFalse         False         False     False   False  False  False     False           False          False   False           False      False    229\n                                                                                                                             True       False      5\n                                                                      True            False          False   False           False      False      4\nName: count, dtype: int64\n\nStorage_GB_SSD\nunrecognized  Manufacturer  Category  Screen  GPU    OS     CPU_core  Screen_Size_cm  CPU_frequency  RAM_GB  Storage_GB_SSD  Weight_kg  Price\nFalse         False         False     False   False  False  False     False           False          False   False           False      False    229\n                                                                                                                             True       False      5\n                                                                      True            False          False   False           False      False      4\nName: count, dtype: int64\n\nWeight_kg\nunrecognized  Manufacturer  Category  Screen  GPU    OS     CPU_core  Screen_Size_cm  CPU_frequency  RAM_GB  Storage_GB_SSD  Weight_kg  Price\nFalse         False         False     False   False  False  False     False           False          False   False           False      False    229\n                                                                                                                             True       False      5\n                                                                      True            False          False   False           False      False      4\nName: count, dtype: int64\n\nPrice\nunrecognized  Manufacturer  Category  Screen  GPU    OS     CPU_core  Screen_Size_cm  CPU_frequency  RAM_GB  Storage_GB_SSD  Weight_kg  Price\nFalse         False         False     False   False  False  False     False           False          False   False           False      False    229\n                                                                                                                             True       False      5\n                                                                      True            False          False   False           False      False      4\nName: count, dtype: int64\n\n",
          "output_type": "stream"
        }
      ],
      "execution_count": 28
    },
    {
      "cell_type": "code",
      "source": "for column in missing_data.columns.values.tolist():\n    print(column)\n    print(missing_data[column].value_counts())\n    print(\"\")",
      "metadata": {
        "trusted": true
      },
      "outputs": [
        {
          "name": "stdout",
          "text": "unrecognized\nunrecognized\nFalse    238\nName: count, dtype: int64\n\nManufacturer\nManufacturer\nFalse    238\nName: count, dtype: int64\n\nCategory\nCategory\nFalse    238\nName: count, dtype: int64\n\nScreen\nScreen\nFalse    238\nName: count, dtype: int64\n\nGPU\nGPU\nFalse    238\nName: count, dtype: int64\n\nOS\nOS\nFalse    238\nName: count, dtype: int64\n\nCPU_core\nCPU_core\nFalse    238\nName: count, dtype: int64\n\nScreen_Size_cm\nScreen_Size_cm\nFalse    234\nTrue       4\nName: count, dtype: int64\n\nCPU_frequency\nCPU_frequency\nFalse    238\nName: count, dtype: int64\n\nRAM_GB\nRAM_GB\nFalse    238\nName: count, dtype: int64\n\nStorage_GB_SSD\nStorage_GB_SSD\nFalse    238\nName: count, dtype: int64\n\nWeight_kg\nWeight_kg\nFalse    233\nTrue       5\nName: count, dtype: int64\n\nPrice\nPrice\nFalse    238\nName: count, dtype: int64\n\n",
          "output_type": "stream"
        }
      ],
      "execution_count": 29
    },
    {
      "cell_type": "code",
      "source": "average=df[['Weight_kg']].mean()",
      "metadata": {
        "trusted": true
      },
      "outputs": [],
      "execution_count": 30
    },
    {
      "cell_type": "code",
      "source": "df[['Weight_kg']]=df[['Weight_kg']].replace(\"NaN\", average, inplace=True)",
      "metadata": {
        "trusted": true
      },
      "outputs": [
        {
          "name": "stderr",
          "text": "<ipython-input-32-aa880b727235>:1: SettingWithCopyWarning: \nA value is trying to be set on a copy of a slice from a DataFrame.\nTry using .loc[row_indexer,col_indexer] = value instead\n\nSee the caveats in the documentation: https://pandas.pydata.org/pandas-docs/stable/user_guide/indexing.html#returning-a-view-versus-a-copy\n  df[['Weight_kg']]=df[['Weight_kg']].replace(\"NaN\", average, inplace=True)\n",
          "output_type": "stream"
        }
      ],
      "execution_count": 32
    },
    {
      "cell_type": "code",
      "source": "avg_weight=df[['Weight_kg']].astype(float).mean(axis=0)\ndf=df.replace(np.nan, avg_weight, inplace=True)",
      "metadata": {
        "trusted": true
      },
      "outputs": [
        {
          "name": "stderr",
          "text": "<ipython-input-33-724b345263df>:2: FutureWarning: Downcasting behavior in `replace` is deprecated and will be removed in a future version. To retain the old behavior, explicitly call `result.infer_objects(copy=False)`. To opt-in to the future behavior, set `pd.set_option('future.no_silent_downcasting', True)`\n  df=df.replace(np.nan, avg_weight, inplace=True)\n",
          "output_type": "stream"
        }
      ],
      "execution_count": 33
    },
    {
      "cell_type": "code",
      "source": "avg_weight=df[['Weight_kg']].astype(float).mean(axis=0)\ndf=df.replace(\"np.nan\", avg_weight, inplace=True)",
      "metadata": {
        "trusted": true
      },
      "outputs": [
        {
          "ename": "<class 'TypeError'>",
          "evalue": "'NoneType' object is not subscriptable",
          "traceback": [
            "\u001b[0;31m---------------------------------------------------------------------------\u001b[0m",
            "\u001b[0;31mTypeError\u001b[0m                                 Traceback (most recent call last)",
            "Cell \u001b[0;32mIn[34], line 1\u001b[0m\n\u001b[0;32m----> 1\u001b[0m avg_weight\u001b[38;5;241m=\u001b[39m\u001b[43mdf\u001b[49m\u001b[43m[\u001b[49m\u001b[43m[\u001b[49m\u001b[38;5;124;43m'\u001b[39;49m\u001b[38;5;124;43mWeight_kg\u001b[39;49m\u001b[38;5;124;43m'\u001b[39;49m\u001b[43m]\u001b[49m\u001b[43m]\u001b[49m\u001b[38;5;241m.\u001b[39mastype(\u001b[38;5;28mfloat\u001b[39m)\u001b[38;5;241m.\u001b[39mmean(axis\u001b[38;5;241m=\u001b[39m\u001b[38;5;241m0\u001b[39m)\n\u001b[1;32m      2\u001b[0m df\u001b[38;5;241m=\u001b[39mdf\u001b[38;5;241m.\u001b[39mreplace(\u001b[38;5;124m\"\u001b[39m\u001b[38;5;124mnp.nan\u001b[39m\u001b[38;5;124m\"\u001b[39m, avg_weight, inplace\u001b[38;5;241m=\u001b[39m\u001b[38;5;28;01mTrue\u001b[39;00m)\n",
            "\u001b[0;31mTypeError\u001b[0m: 'NoneType' object is not subscriptable"
          ],
          "output_type": "error"
        }
      ],
      "execution_count": 34
    },
    {
      "cell_type": "code",
      "source": "avg_weight=df[['Weight_kg']].astype(float).mean(axis=0)\ndf[['Weight_kg']]=df[['Weight_kg']].replace(\"np.nan\", avg_weight, inplace=True)",
      "metadata": {
        "trusted": true
      },
      "outputs": [
        {
          "ename": "<class 'TypeError'>",
          "evalue": "'NoneType' object is not subscriptable",
          "traceback": [
            "\u001b[0;31m---------------------------------------------------------------------------\u001b[0m",
            "\u001b[0;31mTypeError\u001b[0m                                 Traceback (most recent call last)",
            "Cell \u001b[0;32mIn[35], line 1\u001b[0m\n\u001b[0;32m----> 1\u001b[0m avg_weight\u001b[38;5;241m=\u001b[39m\u001b[43mdf\u001b[49m\u001b[43m[\u001b[49m\u001b[43m[\u001b[49m\u001b[38;5;124;43m'\u001b[39;49m\u001b[38;5;124;43mWeight_kg\u001b[39;49m\u001b[38;5;124;43m'\u001b[39;49m\u001b[43m]\u001b[49m\u001b[43m]\u001b[49m\u001b[38;5;241m.\u001b[39mastype(\u001b[38;5;28mfloat\u001b[39m)\u001b[38;5;241m.\u001b[39mmean(axis\u001b[38;5;241m=\u001b[39m\u001b[38;5;241m0\u001b[39m)\n\u001b[1;32m      2\u001b[0m df[[\u001b[38;5;124m'\u001b[39m\u001b[38;5;124mWeight_kg\u001b[39m\u001b[38;5;124m'\u001b[39m]]\u001b[38;5;241m=\u001b[39mdf[[\u001b[38;5;124m'\u001b[39m\u001b[38;5;124mWeight_kg\u001b[39m\u001b[38;5;124m'\u001b[39m]]\u001b[38;5;241m.\u001b[39mreplace(\u001b[38;5;124m\"\u001b[39m\u001b[38;5;124mnp.nan\u001b[39m\u001b[38;5;124m\"\u001b[39m, avg_weight, inplace\u001b[38;5;241m=\u001b[39m\u001b[38;5;28;01mTrue\u001b[39;00m)\n",
            "\u001b[0;31mTypeError\u001b[0m: 'NoneType' object is not subscriptable"
          ],
          "output_type": "error"
        }
      ],
      "execution_count": 35
    },
    {
      "cell_type": "code",
      "source": "avg_weight=df[['Weight_kg']].astype(float).mean(axis=0)\ndf[['Weight_kg']].replace(np.nan, avg_weight, inplace=True)",
      "metadata": {
        "trusted": true
      },
      "outputs": [
        {
          "ename": "<class 'TypeError'>",
          "evalue": "'NoneType' object is not subscriptable",
          "traceback": [
            "\u001b[0;31m---------------------------------------------------------------------------\u001b[0m",
            "\u001b[0;31mTypeError\u001b[0m                                 Traceback (most recent call last)",
            "Cell \u001b[0;32mIn[37], line 1\u001b[0m\n\u001b[0;32m----> 1\u001b[0m avg_weight\u001b[38;5;241m=\u001b[39m\u001b[43mdf\u001b[49m\u001b[43m[\u001b[49m\u001b[43m[\u001b[49m\u001b[38;5;124;43m'\u001b[39;49m\u001b[38;5;124;43mWeight_kg\u001b[39;49m\u001b[38;5;124;43m'\u001b[39;49m\u001b[43m]\u001b[49m\u001b[43m]\u001b[49m\u001b[38;5;241m.\u001b[39mastype(\u001b[38;5;28mfloat\u001b[39m)\u001b[38;5;241m.\u001b[39mmean(axis\u001b[38;5;241m=\u001b[39m\u001b[38;5;241m0\u001b[39m)\n\u001b[1;32m      2\u001b[0m df[[\u001b[38;5;124m'\u001b[39m\u001b[38;5;124mWeight_kg\u001b[39m\u001b[38;5;124m'\u001b[39m]]\u001b[38;5;241m.\u001b[39mreplace(np\u001b[38;5;241m.\u001b[39mnan, avg_weight, inplace\u001b[38;5;241m=\u001b[39m\u001b[38;5;28;01mTrue\u001b[39;00m)\n",
            "\u001b[0;31mTypeError\u001b[0m: 'NoneType' object is not subscriptable"
          ],
          "output_type": "error"
        }
      ],
      "execution_count": 37
    },
    {
      "cell_type": "code",
      "source": "avg_weight=df['Weight_kg'].astype(float).mean(axis=0)\ndf['Weight_kg'].replace(np.nan, avg_weight, inplace=True)",
      "metadata": {
        "trusted": true
      },
      "outputs": [
        {
          "ename": "<class 'TypeError'>",
          "evalue": "'NoneType' object is not subscriptable",
          "traceback": [
            "\u001b[0;31m---------------------------------------------------------------------------\u001b[0m",
            "\u001b[0;31mTypeError\u001b[0m                                 Traceback (most recent call last)",
            "Cell \u001b[0;32mIn[38], line 1\u001b[0m\n\u001b[0;32m----> 1\u001b[0m avg_weight\u001b[38;5;241m=\u001b[39m\u001b[43mdf\u001b[49m\u001b[43m[\u001b[49m\u001b[38;5;124;43m'\u001b[39;49m\u001b[38;5;124;43mWeight_kg\u001b[39;49m\u001b[38;5;124;43m'\u001b[39;49m\u001b[43m]\u001b[49m\u001b[38;5;241m.\u001b[39mastype(\u001b[38;5;28mfloat\u001b[39m)\u001b[38;5;241m.\u001b[39mmean(axis\u001b[38;5;241m=\u001b[39m\u001b[38;5;241m0\u001b[39m)\n\u001b[1;32m      2\u001b[0m df[\u001b[38;5;124m'\u001b[39m\u001b[38;5;124mWeight_kg\u001b[39m\u001b[38;5;124m'\u001b[39m]\u001b[38;5;241m.\u001b[39mreplace(np\u001b[38;5;241m.\u001b[39mnan, avg_weight, inplace\u001b[38;5;241m=\u001b[39m\u001b[38;5;28;01mTrue\u001b[39;00m)\n",
            "\u001b[0;31mTypeError\u001b[0m: 'NoneType' object is not subscriptable"
          ],
          "output_type": "error"
        }
      ],
      "execution_count": 38
    },
    {
      "cell_type": "code",
      "source": "df=pd.read_csv(file_name)\n",
      "metadata": {
        "trusted": true
      },
      "outputs": [],
      "execution_count": 39
    },
    {
      "cell_type": "code",
      "source": "df.rename(\"Unnamed: 0\":\"Undefined\")",
      "metadata": {
        "trusted": true
      },
      "outputs": [
        {
          "ename": "<class 'SyntaxError'>",
          "evalue": "invalid syntax (<ipython-input-40-f3e0b74006a4>, line 1)",
          "traceback": [
            "\u001b[0;36m  Cell \u001b[0;32mIn[40], line 1\u001b[0;36m\u001b[0m\n\u001b[0;31m    df.rename(\"Unnamed: 0\":\"Undefined\")\u001b[0m\n\u001b[0m                          ^\u001b[0m\n\u001b[0;31mSyntaxError\u001b[0m\u001b[0;31m:\u001b[0m invalid syntax\n"
          ],
          "output_type": "error"
        }
      ],
      "execution_count": 40
    },
    {
      "cell_type": "code",
      "source": "df[columns].rename(\"Unnamed: 0\":\"Undefined\")",
      "metadata": {
        "trusted": true
      },
      "outputs": [
        {
          "ename": "<class 'SyntaxError'>",
          "evalue": "invalid syntax (<ipython-input-41-f1b0795ac7c8>, line 1)",
          "traceback": [
            "\u001b[0;36m  Cell \u001b[0;32mIn[41], line 1\u001b[0;36m\u001b[0m\n\u001b[0;31m    df[columns].rename(\"Unnamed: 0\":\"Undefined\")\u001b[0m\n\u001b[0m                                   ^\u001b[0m\n\u001b[0;31mSyntaxError\u001b[0m\u001b[0;31m:\u001b[0m invalid syntax\n"
          ],
          "output_type": "error"
        }
      ],
      "execution_count": 41
    },
    {
      "cell_type": "code",
      "source": "df.rename(columns={\"Unnamed: 0\":\"Undefined\"})",
      "metadata": {
        "trusted": true
      },
      "outputs": [
        {
          "execution_count": 42,
          "output_type": "execute_result",
          "data": {
            "text/plain": "     Undefined Manufacturer  Category     Screen  GPU  OS  CPU_core  \\\n0            0         Acer         4  IPS Panel    2   1         5   \n1            1         Dell         3    Full HD    1   1         3   \n2            2         Dell         3    Full HD    1   1         7   \n3            3         Dell         4  IPS Panel    2   1         5   \n4            4           HP         4    Full HD    2   1         7   \n..         ...          ...       ...        ...  ...  ..       ...   \n233        233       Lenovo         4  IPS Panel    2   1         7   \n234        234      Toshiba         3    Full HD    2   1         5   \n235        235       Lenovo         4  IPS Panel    2   1         5   \n236        236       Lenovo         3    Full HD    3   1         5   \n237        237      Toshiba         3    Full HD    2   1         5   \n\n     Screen_Size_cm  CPU_frequency  RAM_GB  Storage_GB_SSD  Weight_kg  Price  \n0            35.560            1.6       8             256       1.60    978  \n1            39.624            2.0       4             256       2.20    634  \n2            39.624            2.7       8             256       2.20    946  \n3            33.782            1.6       8             128       1.22   1244  \n4            39.624            1.8       8             256       1.91    837  \n..              ...            ...     ...             ...        ...    ...  \n233          35.560            2.6       8             256       1.70   1891  \n234          33.782            2.4       8             256       1.20   1950  \n235          30.480            2.6       8             256       1.36   2236  \n236          39.624            2.5       6             256       2.40    883  \n237          35.560            2.3       8             256       1.95   1499  \n\n[238 rows x 13 columns]",
            "text/html": "<div>\n<style scoped>\n    .dataframe tbody tr th:only-of-type {\n        vertical-align: middle;\n    }\n\n    .dataframe tbody tr th {\n        vertical-align: top;\n    }\n\n    .dataframe thead th {\n        text-align: right;\n    }\n</style>\n<table border=\"1\" class=\"dataframe\">\n  <thead>\n    <tr style=\"text-align: right;\">\n      <th></th>\n      <th>Undefined</th>\n      <th>Manufacturer</th>\n      <th>Category</th>\n      <th>Screen</th>\n      <th>GPU</th>\n      <th>OS</th>\n      <th>CPU_core</th>\n      <th>Screen_Size_cm</th>\n      <th>CPU_frequency</th>\n      <th>RAM_GB</th>\n      <th>Storage_GB_SSD</th>\n      <th>Weight_kg</th>\n      <th>Price</th>\n    </tr>\n  </thead>\n  <tbody>\n    <tr>\n      <th>0</th>\n      <td>0</td>\n      <td>Acer</td>\n      <td>4</td>\n      <td>IPS Panel</td>\n      <td>2</td>\n      <td>1</td>\n      <td>5</td>\n      <td>35.560</td>\n      <td>1.6</td>\n      <td>8</td>\n      <td>256</td>\n      <td>1.60</td>\n      <td>978</td>\n    </tr>\n    <tr>\n      <th>1</th>\n      <td>1</td>\n      <td>Dell</td>\n      <td>3</td>\n      <td>Full HD</td>\n      <td>1</td>\n      <td>1</td>\n      <td>3</td>\n      <td>39.624</td>\n      <td>2.0</td>\n      <td>4</td>\n      <td>256</td>\n      <td>2.20</td>\n      <td>634</td>\n    </tr>\n    <tr>\n      <th>2</th>\n      <td>2</td>\n      <td>Dell</td>\n      <td>3</td>\n      <td>Full HD</td>\n      <td>1</td>\n      <td>1</td>\n      <td>7</td>\n      <td>39.624</td>\n      <td>2.7</td>\n      <td>8</td>\n      <td>256</td>\n      <td>2.20</td>\n      <td>946</td>\n    </tr>\n    <tr>\n      <th>3</th>\n      <td>3</td>\n      <td>Dell</td>\n      <td>4</td>\n      <td>IPS Panel</td>\n      <td>2</td>\n      <td>1</td>\n      <td>5</td>\n      <td>33.782</td>\n      <td>1.6</td>\n      <td>8</td>\n      <td>128</td>\n      <td>1.22</td>\n      <td>1244</td>\n    </tr>\n    <tr>\n      <th>4</th>\n      <td>4</td>\n      <td>HP</td>\n      <td>4</td>\n      <td>Full HD</td>\n      <td>2</td>\n      <td>1</td>\n      <td>7</td>\n      <td>39.624</td>\n      <td>1.8</td>\n      <td>8</td>\n      <td>256</td>\n      <td>1.91</td>\n      <td>837</td>\n    </tr>\n    <tr>\n      <th>...</th>\n      <td>...</td>\n      <td>...</td>\n      <td>...</td>\n      <td>...</td>\n      <td>...</td>\n      <td>...</td>\n      <td>...</td>\n      <td>...</td>\n      <td>...</td>\n      <td>...</td>\n      <td>...</td>\n      <td>...</td>\n      <td>...</td>\n    </tr>\n    <tr>\n      <th>233</th>\n      <td>233</td>\n      <td>Lenovo</td>\n      <td>4</td>\n      <td>IPS Panel</td>\n      <td>2</td>\n      <td>1</td>\n      <td>7</td>\n      <td>35.560</td>\n      <td>2.6</td>\n      <td>8</td>\n      <td>256</td>\n      <td>1.70</td>\n      <td>1891</td>\n    </tr>\n    <tr>\n      <th>234</th>\n      <td>234</td>\n      <td>Toshiba</td>\n      <td>3</td>\n      <td>Full HD</td>\n      <td>2</td>\n      <td>1</td>\n      <td>5</td>\n      <td>33.782</td>\n      <td>2.4</td>\n      <td>8</td>\n      <td>256</td>\n      <td>1.20</td>\n      <td>1950</td>\n    </tr>\n    <tr>\n      <th>235</th>\n      <td>235</td>\n      <td>Lenovo</td>\n      <td>4</td>\n      <td>IPS Panel</td>\n      <td>2</td>\n      <td>1</td>\n      <td>5</td>\n      <td>30.480</td>\n      <td>2.6</td>\n      <td>8</td>\n      <td>256</td>\n      <td>1.36</td>\n      <td>2236</td>\n    </tr>\n    <tr>\n      <th>236</th>\n      <td>236</td>\n      <td>Lenovo</td>\n      <td>3</td>\n      <td>Full HD</td>\n      <td>3</td>\n      <td>1</td>\n      <td>5</td>\n      <td>39.624</td>\n      <td>2.5</td>\n      <td>6</td>\n      <td>256</td>\n      <td>2.40</td>\n      <td>883</td>\n    </tr>\n    <tr>\n      <th>237</th>\n      <td>237</td>\n      <td>Toshiba</td>\n      <td>3</td>\n      <td>Full HD</td>\n      <td>2</td>\n      <td>1</td>\n      <td>5</td>\n      <td>35.560</td>\n      <td>2.3</td>\n      <td>8</td>\n      <td>256</td>\n      <td>1.95</td>\n      <td>1499</td>\n    </tr>\n  </tbody>\n</table>\n<p>238 rows × 13 columns</p>\n</div>"
          },
          "metadata": {}
        }
      ],
      "execution_count": 42
    },
    {
      "cell_type": "code",
      "source": "missing_data=df.isnull()",
      "metadata": {
        "trusted": true
      },
      "outputs": [],
      "execution_count": 43
    },
    {
      "cell_type": "code",
      "source": "for column in missing_data. columns.values.tolist():\n    print(column)\n    print(missing_data.values_count())\n    print(\"\")",
      "metadata": {
        "trusted": true
      },
      "outputs": [
        {
          "name": "stdout",
          "text": "Unnamed: 0\n",
          "output_type": "stream"
        },
        {
          "ename": "<class 'AttributeError'>",
          "evalue": "'DataFrame' object has no attribute 'values_count'",
          "traceback": [
            "\u001b[0;31m---------------------------------------------------------------------------\u001b[0m",
            "\u001b[0;31mAttributeError\u001b[0m                            Traceback (most recent call last)",
            "\u001b[0;32m<ipython-input-44-3c22c6936943>\u001b[0m in \u001b[0;36m?\u001b[0;34m()\u001b[0m\n\u001b[1;32m      1\u001b[0m \u001b[0;32mfor\u001b[0m \u001b[0mcolumn\u001b[0m \u001b[0;32min\u001b[0m \u001b[0mmissing_data\u001b[0m\u001b[0;34m.\u001b[0m \u001b[0mcolumns\u001b[0m\u001b[0;34m.\u001b[0m\u001b[0mvalues\u001b[0m\u001b[0;34m.\u001b[0m\u001b[0mtolist\u001b[0m\u001b[0;34m(\u001b[0m\u001b[0;34m)\u001b[0m\u001b[0;34m:\u001b[0m\u001b[0;34m\u001b[0m\u001b[0;34m\u001b[0m\u001b[0m\n\u001b[1;32m      2\u001b[0m     \u001b[0mprint\u001b[0m\u001b[0;34m(\u001b[0m\u001b[0mcolumn\u001b[0m\u001b[0;34m)\u001b[0m\u001b[0;34m\u001b[0m\u001b[0;34m\u001b[0m\u001b[0m\n\u001b[0;32m----> 3\u001b[0;31m     \u001b[0mprint\u001b[0m\u001b[0;34m(\u001b[0m\u001b[0mmissing_data\u001b[0m\u001b[0;34m.\u001b[0m\u001b[0mvalues_count\u001b[0m\u001b[0;34m(\u001b[0m\u001b[0;34m)\u001b[0m\u001b[0;34m)\u001b[0m\u001b[0;34m\u001b[0m\u001b[0;34m\u001b[0m\u001b[0m\n\u001b[0m\u001b[1;32m      4\u001b[0m     \u001b[0mprint\u001b[0m\u001b[0;34m(\u001b[0m\u001b[0;34m\"\"\u001b[0m\u001b[0;34m)\u001b[0m\u001b[0;34m\u001b[0m\u001b[0;34m\u001b[0m\u001b[0m\n",
            "\u001b[0;32m/lib/python3.12/site-packages/pandas/core/generic.py\u001b[0m in \u001b[0;36m?\u001b[0;34m(self, name)\u001b[0m\n\u001b[1;32m   6289\u001b[0m             \u001b[0;32mand\u001b[0m \u001b[0mname\u001b[0m \u001b[0;32mnot\u001b[0m \u001b[0;32min\u001b[0m \u001b[0mself\u001b[0m\u001b[0;34m.\u001b[0m\u001b[0m_accessors\u001b[0m\u001b[0;34m\u001b[0m\u001b[0;34m\u001b[0m\u001b[0m\n\u001b[1;32m   6290\u001b[0m             \u001b[0;32mand\u001b[0m \u001b[0mself\u001b[0m\u001b[0;34m.\u001b[0m\u001b[0m_info_axis\u001b[0m\u001b[0;34m.\u001b[0m\u001b[0m_can_hold_identifiers_and_holds_name\u001b[0m\u001b[0;34m(\u001b[0m\u001b[0mname\u001b[0m\u001b[0;34m)\u001b[0m\u001b[0;34m\u001b[0m\u001b[0;34m\u001b[0m\u001b[0m\n\u001b[1;32m   6291\u001b[0m         \u001b[0;34m)\u001b[0m\u001b[0;34m:\u001b[0m\u001b[0;34m\u001b[0m\u001b[0;34m\u001b[0m\u001b[0m\n\u001b[1;32m   6292\u001b[0m             \u001b[0;32mreturn\u001b[0m \u001b[0mself\u001b[0m\u001b[0;34m[\u001b[0m\u001b[0mname\u001b[0m\u001b[0;34m]\u001b[0m\u001b[0;34m\u001b[0m\u001b[0;34m\u001b[0m\u001b[0m\n\u001b[0;32m-> 6293\u001b[0;31m         \u001b[0;32mreturn\u001b[0m \u001b[0mobject\u001b[0m\u001b[0;34m.\u001b[0m\u001b[0m__getattribute__\u001b[0m\u001b[0;34m(\u001b[0m\u001b[0mself\u001b[0m\u001b[0;34m,\u001b[0m \u001b[0mname\u001b[0m\u001b[0;34m)\u001b[0m\u001b[0;34m\u001b[0m\u001b[0;34m\u001b[0m\u001b[0m\n\u001b[0m",
            "\u001b[0;31mAttributeError\u001b[0m: 'DataFrame' object has no attribute 'values_count'"
          ],
          "output_type": "error"
        }
      ],
      "execution_count": 44
    },
    {
      "cell_type": "code",
      "source": "for column in missing_data. columns.values.tolist():\n    print(column)\n    print(missing_data[columns].values_count())\n    print(\"\")",
      "metadata": {
        "trusted": true
      },
      "outputs": [
        {
          "name": "stdout",
          "text": "Unnamed: 0\n",
          "output_type": "stream"
        },
        {
          "ename": "<class 'NameError'>",
          "evalue": "name 'columns' is not defined",
          "traceback": [
            "\u001b[0;31m---------------------------------------------------------------------------\u001b[0m",
            "\u001b[0;31mNameError\u001b[0m                                 Traceback (most recent call last)",
            "Cell \u001b[0;32mIn[45], line 3\u001b[0m\n\u001b[1;32m      1\u001b[0m \u001b[38;5;28;01mfor\u001b[39;00m column \u001b[38;5;129;01min\u001b[39;00m missing_data\u001b[38;5;241m.\u001b[39m columns\u001b[38;5;241m.\u001b[39mvalues\u001b[38;5;241m.\u001b[39mtolist():\n\u001b[1;32m      2\u001b[0m     \u001b[38;5;28mprint\u001b[39m(column)\n\u001b[0;32m----> 3\u001b[0m     \u001b[38;5;28mprint\u001b[39m(missing_data[\u001b[43mcolumns\u001b[49m]\u001b[38;5;241m.\u001b[39mvalues_count())\n\u001b[1;32m      4\u001b[0m     \u001b[38;5;28mprint\u001b[39m(\u001b[38;5;124m\"\u001b[39m\u001b[38;5;124m\"\u001b[39m)\n",
            "\u001b[0;31mNameError\u001b[0m: name 'columns' is not defined"
          ],
          "output_type": "error"
        }
      ],
      "execution_count": 45
    },
    {
      "cell_type": "code",
      "source": "for column in missing_data. columns.values.tolist():\n    print(column)\n    print(missing_data[column].values_count())\n    print(\"\")",
      "metadata": {
        "trusted": true
      },
      "outputs": [
        {
          "name": "stdout",
          "text": "Unnamed: 0\n",
          "output_type": "stream"
        },
        {
          "ename": "<class 'AttributeError'>",
          "evalue": "'Series' object has no attribute 'values_count'",
          "traceback": [
            "\u001b[0;31m---------------------------------------------------------------------------\u001b[0m",
            "\u001b[0;31mAttributeError\u001b[0m                            Traceback (most recent call last)",
            "\u001b[0;32m<ipython-input-46-280ec54ce654>\u001b[0m in \u001b[0;36m?\u001b[0;34m()\u001b[0m\n\u001b[1;32m      1\u001b[0m \u001b[0;32mfor\u001b[0m \u001b[0mcolumn\u001b[0m \u001b[0;32min\u001b[0m \u001b[0mmissing_data\u001b[0m\u001b[0;34m.\u001b[0m \u001b[0mcolumns\u001b[0m\u001b[0;34m.\u001b[0m\u001b[0mvalues\u001b[0m\u001b[0;34m.\u001b[0m\u001b[0mtolist\u001b[0m\u001b[0;34m(\u001b[0m\u001b[0;34m)\u001b[0m\u001b[0;34m:\u001b[0m\u001b[0;34m\u001b[0m\u001b[0;34m\u001b[0m\u001b[0m\n\u001b[1;32m      2\u001b[0m     \u001b[0mprint\u001b[0m\u001b[0;34m(\u001b[0m\u001b[0mcolumn\u001b[0m\u001b[0;34m)\u001b[0m\u001b[0;34m\u001b[0m\u001b[0;34m\u001b[0m\u001b[0m\n\u001b[0;32m----> 3\u001b[0;31m     \u001b[0mprint\u001b[0m\u001b[0;34m(\u001b[0m\u001b[0mmissing_data\u001b[0m\u001b[0;34m[\u001b[0m\u001b[0mcolumn\u001b[0m\u001b[0;34m]\u001b[0m\u001b[0;34m.\u001b[0m\u001b[0mvalues_count\u001b[0m\u001b[0;34m(\u001b[0m\u001b[0;34m)\u001b[0m\u001b[0;34m)\u001b[0m\u001b[0;34m\u001b[0m\u001b[0;34m\u001b[0m\u001b[0m\n\u001b[0m\u001b[1;32m      4\u001b[0m     \u001b[0mprint\u001b[0m\u001b[0;34m(\u001b[0m\u001b[0;34m\"\"\u001b[0m\u001b[0;34m)\u001b[0m\u001b[0;34m\u001b[0m\u001b[0;34m\u001b[0m\u001b[0m\n",
            "\u001b[0;32m/lib/python3.12/site-packages/pandas/core/generic.py\u001b[0m in \u001b[0;36m?\u001b[0;34m(self, name)\u001b[0m\n\u001b[1;32m   6289\u001b[0m             \u001b[0;32mand\u001b[0m \u001b[0mname\u001b[0m \u001b[0;32mnot\u001b[0m \u001b[0;32min\u001b[0m \u001b[0mself\u001b[0m\u001b[0;34m.\u001b[0m\u001b[0m_accessors\u001b[0m\u001b[0;34m\u001b[0m\u001b[0;34m\u001b[0m\u001b[0m\n\u001b[1;32m   6290\u001b[0m             \u001b[0;32mand\u001b[0m \u001b[0mself\u001b[0m\u001b[0;34m.\u001b[0m\u001b[0m_info_axis\u001b[0m\u001b[0;34m.\u001b[0m\u001b[0m_can_hold_identifiers_and_holds_name\u001b[0m\u001b[0;34m(\u001b[0m\u001b[0mname\u001b[0m\u001b[0;34m)\u001b[0m\u001b[0;34m\u001b[0m\u001b[0;34m\u001b[0m\u001b[0m\n\u001b[1;32m   6291\u001b[0m         \u001b[0;34m)\u001b[0m\u001b[0;34m:\u001b[0m\u001b[0;34m\u001b[0m\u001b[0;34m\u001b[0m\u001b[0m\n\u001b[1;32m   6292\u001b[0m             \u001b[0;32mreturn\u001b[0m \u001b[0mself\u001b[0m\u001b[0;34m[\u001b[0m\u001b[0mname\u001b[0m\u001b[0;34m]\u001b[0m\u001b[0;34m\u001b[0m\u001b[0;34m\u001b[0m\u001b[0m\n\u001b[0;32m-> 6293\u001b[0;31m         \u001b[0;32mreturn\u001b[0m \u001b[0mobject\u001b[0m\u001b[0;34m.\u001b[0m\u001b[0m__getattribute__\u001b[0m\u001b[0;34m(\u001b[0m\u001b[0mself\u001b[0m\u001b[0;34m,\u001b[0m \u001b[0mname\u001b[0m\u001b[0;34m)\u001b[0m\u001b[0;34m\u001b[0m\u001b[0;34m\u001b[0m\u001b[0m\n\u001b[0m",
            "\u001b[0;31mAttributeError\u001b[0m: 'Series' object has no attribute 'values_count'"
          ],
          "output_type": "error"
        }
      ],
      "execution_count": 46
    },
    {
      "cell_type": "code",
      "source": "for column in missing_data. columns.values.tolist():\n    print(column)\n    print(missing_data[columns].value_counts())\n    print(\"\")",
      "metadata": {
        "trusted": true
      },
      "outputs": [
        {
          "name": "stdout",
          "text": "Unnamed: 0\n",
          "output_type": "stream"
        },
        {
          "ename": "<class 'NameError'>",
          "evalue": "name 'columns' is not defined",
          "traceback": [
            "\u001b[0;31m---------------------------------------------------------------------------\u001b[0m",
            "\u001b[0;31mNameError\u001b[0m                                 Traceback (most recent call last)",
            "Cell \u001b[0;32mIn[47], line 3\u001b[0m\n\u001b[1;32m      1\u001b[0m \u001b[38;5;28;01mfor\u001b[39;00m column \u001b[38;5;129;01min\u001b[39;00m missing_data\u001b[38;5;241m.\u001b[39m columns\u001b[38;5;241m.\u001b[39mvalues\u001b[38;5;241m.\u001b[39mtolist():\n\u001b[1;32m      2\u001b[0m     \u001b[38;5;28mprint\u001b[39m(column)\n\u001b[0;32m----> 3\u001b[0m     \u001b[38;5;28mprint\u001b[39m(missing_data[\u001b[43mcolumns\u001b[49m]\u001b[38;5;241m.\u001b[39mvalue_counts())\n\u001b[1;32m      4\u001b[0m     \u001b[38;5;28mprint\u001b[39m(\u001b[38;5;124m\"\u001b[39m\u001b[38;5;124m\"\u001b[39m)\n",
            "\u001b[0;31mNameError\u001b[0m: name 'columns' is not defined"
          ],
          "output_type": "error"
        }
      ],
      "execution_count": 47
    },
    {
      "cell_type": "code",
      "source": "for column in missing_data. columns.values.tolist():\n    print(column)\n    print(missing_data[column].value_counts())\n    print(\"\")",
      "metadata": {
        "trusted": true
      },
      "outputs": [
        {
          "name": "stdout",
          "text": "Unnamed: 0\nUnnamed: 0\nFalse    238\nName: count, dtype: int64\n\nManufacturer\nManufacturer\nFalse    238\nName: count, dtype: int64\n\nCategory\nCategory\nFalse    238\nName: count, dtype: int64\n\nScreen\nScreen\nFalse    238\nName: count, dtype: int64\n\nGPU\nGPU\nFalse    238\nName: count, dtype: int64\n\nOS\nOS\nFalse    238\nName: count, dtype: int64\n\nCPU_core\nCPU_core\nFalse    238\nName: count, dtype: int64\n\nScreen_Size_cm\nScreen_Size_cm\nFalse    234\nTrue       4\nName: count, dtype: int64\n\nCPU_frequency\nCPU_frequency\nFalse    238\nName: count, dtype: int64\n\nRAM_GB\nRAM_GB\nFalse    238\nName: count, dtype: int64\n\nStorage_GB_SSD\nStorage_GB_SSD\nFalse    238\nName: count, dtype: int64\n\nWeight_kg\nWeight_kg\nFalse    233\nTrue       5\nName: count, dtype: int64\n\nPrice\nPrice\nFalse    238\nName: count, dtype: int64\n\n",
          "output_type": "stream"
        }
      ],
      "execution_count": 48
    },
    {
      "cell_type": "code",
      "source": "df['Screen_size_cm']=np.round(df['Screen_size_cm'],2)",
      "metadata": {
        "trusted": true
      },
      "outputs": [
        {
          "ename": "<class 'KeyError'>",
          "evalue": "'Screen_size_cm'",
          "traceback": [
            "\u001b[0;31m---------------------------------------------------------------------------\u001b[0m",
            "\u001b[0;31mKeyError\u001b[0m                                  Traceback (most recent call last)",
            "File \u001b[0;32m/lib/python3.12/site-packages/pandas/core/indexes/base.py:3802\u001b[0m, in \u001b[0;36mIndex.get_loc\u001b[0;34m(self, key)\u001b[0m\n\u001b[1;32m   3801\u001b[0m \u001b[38;5;28;01mtry\u001b[39;00m:\n\u001b[0;32m-> 3802\u001b[0m     \u001b[38;5;28;01mreturn\u001b[39;00m \u001b[38;5;28;43mself\u001b[39;49m\u001b[38;5;241;43m.\u001b[39;49m\u001b[43m_engine\u001b[49m\u001b[38;5;241;43m.\u001b[39;49m\u001b[43mget_loc\u001b[49m\u001b[43m(\u001b[49m\u001b[43mcasted_key\u001b[49m\u001b[43m)\u001b[49m\n\u001b[1;32m   3803\u001b[0m \u001b[38;5;28;01mexcept\u001b[39;00m \u001b[38;5;167;01mKeyError\u001b[39;00m \u001b[38;5;28;01mas\u001b[39;00m err:\n",
            "File \u001b[0;32mindex.pyx:153\u001b[0m, in \u001b[0;36mpandas._libs.index.IndexEngine.get_loc\u001b[0;34m()\u001b[0m\n",
            "File \u001b[0;32mindex.pyx:182\u001b[0m, in \u001b[0;36mpandas._libs.index.IndexEngine.get_loc\u001b[0;34m()\u001b[0m\n",
            "File \u001b[0;32mpandas/_libs/hashtable_class_helper.pxi:7081\u001b[0m, in \u001b[0;36mpandas._libs.hashtable.PyObjectHashTable.get_item\u001b[0;34m()\u001b[0m\n",
            "File \u001b[0;32mpandas/_libs/hashtable_class_helper.pxi:7089\u001b[0m, in \u001b[0;36mpandas._libs.hashtable.PyObjectHashTable.get_item\u001b[0;34m()\u001b[0m\n",
            "\u001b[0;31mKeyError\u001b[0m: 'Screen_size_cm'",
            "\nThe above exception was the direct cause of the following exception:\n",
            "\u001b[0;31mKeyError\u001b[0m                                  Traceback (most recent call last)",
            "Cell \u001b[0;32mIn[49], line 1\u001b[0m\n\u001b[0;32m----> 1\u001b[0m df[\u001b[38;5;124m'\u001b[39m\u001b[38;5;124mScreen_size_cm\u001b[39m\u001b[38;5;124m'\u001b[39m]\u001b[38;5;241m=\u001b[39mnp\u001b[38;5;241m.\u001b[39mround(\u001b[43mdf\u001b[49m\u001b[43m[\u001b[49m\u001b[38;5;124;43m'\u001b[39;49m\u001b[38;5;124;43mScreen_size_cm\u001b[39;49m\u001b[38;5;124;43m'\u001b[39;49m\u001b[43m]\u001b[49m,\u001b[38;5;241m2\u001b[39m)\n",
            "File \u001b[0;32m/lib/python3.12/site-packages/pandas/core/frame.py:4090\u001b[0m, in \u001b[0;36mDataFrame.__getitem__\u001b[0;34m(self, key)\u001b[0m\n\u001b[1;32m   4088\u001b[0m \u001b[38;5;28;01mif\u001b[39;00m \u001b[38;5;28mself\u001b[39m\u001b[38;5;241m.\u001b[39mcolumns\u001b[38;5;241m.\u001b[39mnlevels \u001b[38;5;241m>\u001b[39m \u001b[38;5;241m1\u001b[39m:\n\u001b[1;32m   4089\u001b[0m     \u001b[38;5;28;01mreturn\u001b[39;00m \u001b[38;5;28mself\u001b[39m\u001b[38;5;241m.\u001b[39m_getitem_multilevel(key)\n\u001b[0;32m-> 4090\u001b[0m indexer \u001b[38;5;241m=\u001b[39m \u001b[38;5;28;43mself\u001b[39;49m\u001b[38;5;241;43m.\u001b[39;49m\u001b[43mcolumns\u001b[49m\u001b[38;5;241;43m.\u001b[39;49m\u001b[43mget_loc\u001b[49m\u001b[43m(\u001b[49m\u001b[43mkey\u001b[49m\u001b[43m)\u001b[49m\n\u001b[1;32m   4091\u001b[0m \u001b[38;5;28;01mif\u001b[39;00m is_integer(indexer):\n\u001b[1;32m   4092\u001b[0m     indexer \u001b[38;5;241m=\u001b[39m [indexer]\n",
            "File \u001b[0;32m/lib/python3.12/site-packages/pandas/core/indexes/base.py:3809\u001b[0m, in \u001b[0;36mIndex.get_loc\u001b[0;34m(self, key)\u001b[0m\n\u001b[1;32m   3804\u001b[0m     \u001b[38;5;28;01mif\u001b[39;00m \u001b[38;5;28misinstance\u001b[39m(casted_key, \u001b[38;5;28mslice\u001b[39m) \u001b[38;5;129;01mor\u001b[39;00m (\n\u001b[1;32m   3805\u001b[0m         \u001b[38;5;28misinstance\u001b[39m(casted_key, abc\u001b[38;5;241m.\u001b[39mIterable)\n\u001b[1;32m   3806\u001b[0m         \u001b[38;5;129;01mand\u001b[39;00m \u001b[38;5;28many\u001b[39m(\u001b[38;5;28misinstance\u001b[39m(x, \u001b[38;5;28mslice\u001b[39m) \u001b[38;5;28;01mfor\u001b[39;00m x \u001b[38;5;129;01min\u001b[39;00m casted_key)\n\u001b[1;32m   3807\u001b[0m     ):\n\u001b[1;32m   3808\u001b[0m         \u001b[38;5;28;01mraise\u001b[39;00m InvalidIndexError(key)\n\u001b[0;32m-> 3809\u001b[0m     \u001b[38;5;28;01mraise\u001b[39;00m \u001b[38;5;167;01mKeyError\u001b[39;00m(key) \u001b[38;5;28;01mfrom\u001b[39;00m \u001b[38;5;21;01merr\u001b[39;00m\n\u001b[1;32m   3810\u001b[0m \u001b[38;5;28;01mexcept\u001b[39;00m \u001b[38;5;167;01mTypeError\u001b[39;00m:\n\u001b[1;32m   3811\u001b[0m     \u001b[38;5;66;03m# If we have a listlike key, _check_indexing_error will raise\u001b[39;00m\n\u001b[1;32m   3812\u001b[0m     \u001b[38;5;66;03m#  InvalidIndexError. Otherwise we fall through and re-raise\u001b[39;00m\n\u001b[1;32m   3813\u001b[0m     \u001b[38;5;66;03m#  the TypeError.\u001b[39;00m\n\u001b[1;32m   3814\u001b[0m     \u001b[38;5;28mself\u001b[39m\u001b[38;5;241m.\u001b[39m_check_indexing_error(key)\n",
            "\u001b[0;31mKeyError\u001b[0m: 'Screen_size_cm'"
          ],
          "output_type": "error"
        }
      ],
      "execution_count": 49
    },
    {
      "cell_type": "code",
      "source": "df['Screen_Size_cm']=np.round(df['Screen_Size_cm'],2)",
      "metadata": {
        "trusted": true
      },
      "outputs": [],
      "execution_count": 50
    },
    {
      "cell_type": "code",
      "source": "df['Screen_Size_cm'].head(5)",
      "metadata": {
        "trusted": true
      },
      "outputs": [
        {
          "execution_count": 51,
          "output_type": "execute_result",
          "data": {
            "text/plain": "0    35.56\n1    39.62\n2    39.62\n3    33.78\n4    39.62\nName: Screen_Size_cm, dtype: float64"
          },
          "metadata": {}
        }
      ],
      "execution_count": 51
    },
    {
      "cell_type": "code",
      "source": "missing_data=df.isnull()",
      "metadata": {
        "trusted": true
      },
      "outputs": [],
      "execution_count": 52
    },
    {
      "cell_type": "code",
      "source": "for column in missing_data.columns.values.tolist():\n    print(column)\n    print(missing_data[column].value_counts())\n    print(\"\")",
      "metadata": {
        "trusted": true
      },
      "outputs": [
        {
          "name": "stdout",
          "text": "Unnamed: 0\nUnnamed: 0\nFalse    238\nName: count, dtype: int64\n\nManufacturer\nManufacturer\nFalse    238\nName: count, dtype: int64\n\nCategory\nCategory\nFalse    238\nName: count, dtype: int64\n\nScreen\nScreen\nFalse    238\nName: count, dtype: int64\n\nGPU\nGPU\nFalse    238\nName: count, dtype: int64\n\nOS\nOS\nFalse    238\nName: count, dtype: int64\n\nCPU_core\nCPU_core\nFalse    238\nName: count, dtype: int64\n\nScreen_Size_cm\nScreen_Size_cm\nFalse    234\nTrue       4\nName: count, dtype: int64\n\nCPU_frequency\nCPU_frequency\nFalse    238\nName: count, dtype: int64\n\nRAM_GB\nRAM_GB\nFalse    238\nName: count, dtype: int64\n\nStorage_GB_SSD\nStorage_GB_SSD\nFalse    238\nName: count, dtype: int64\n\nWeight_kg\nWeight_kg\nFalse    233\nTrue       5\nName: count, dtype: int64\n\nPrice\nPrice\nFalse    238\nName: count, dtype: int64\n\n",
          "output_type": "stream"
        }
      ],
      "execution_count": 53
    },
    {
      "cell_type": "code",
      "source": "avg_weight=df['Weight_kg'].astype(float).mean(axis=0)",
      "metadata": {
        "trusted": true
      },
      "outputs": [],
      "execution_count": 54
    },
    {
      "cell_type": "code",
      "source": "df.replace(np.nan, avg_weight, inplace=True)",
      "metadata": {
        "trusted": true
      },
      "outputs": [],
      "execution_count": 55
    },
    {
      "cell_type": "code",
      "source": "#replace screen_size with most frequent values\n\ndf['Screen_Size_cm'].describe(include=\"All\")",
      "metadata": {
        "trusted": true
      },
      "outputs": [
        {
          "execution_count": 56,
          "output_type": "execute_result",
          "data": {
            "text/plain": "count    238.000000\nmean      36.672811\nstd        5.429074\nmin        1.862232\n25%       35.560000\n50%       38.100000\n75%       39.620000\nmax       43.940000\nName: Screen_Size_cm, dtype: float64"
          },
          "metadata": {}
        }
      ],
      "execution_count": 56
    },
    {
      "cell_type": "code",
      "source": "df.describe(include=\"all\")",
      "metadata": {
        "trusted": true
      },
      "outputs": [
        {
          "execution_count": 57,
          "output_type": "execute_result",
          "data": {
            "text/plain": "        Unnamed: 0 Manufacturer    Category   Screen         GPU          OS  \\\ncount   238.000000          238  238.000000      238  238.000000  238.000000   \nunique         NaN           11         NaN        2         NaN         NaN   \ntop            NaN         Dell         NaN  Full HD         NaN         NaN   \nfreq           NaN           71         NaN      161         NaN         NaN   \nmean    118.500000          NaN    3.205882      NaN    2.151261    1.058824   \nstd      68.848868          NaN    0.776533      NaN    0.638282    0.235790   \nmin       0.000000          NaN    1.000000      NaN    1.000000    1.000000   \n25%      59.250000          NaN    3.000000      NaN    2.000000    1.000000   \n50%     118.500000          NaN    3.000000      NaN    2.000000    1.000000   \n75%     177.750000          NaN    4.000000      NaN    3.000000    1.000000   \nmax     237.000000          NaN    5.000000      NaN    3.000000    2.000000   \n\n          CPU_core  Screen_Size_cm  CPU_frequency      RAM_GB  Storage_GB_SSD  \\\ncount   238.000000      238.000000     238.000000  238.000000      238.000000   \nunique         NaN             NaN            NaN         NaN             NaN   \ntop            NaN             NaN            NaN         NaN             NaN   \nfreq           NaN             NaN            NaN         NaN             NaN   \nmean      5.630252       36.672811       2.360084    7.882353      245.781513   \nstd       1.241787        5.429074       0.411393    2.482603       34.765316   \nmin       3.000000        1.862232       1.200000    4.000000      128.000000   \n25%       5.000000       35.560000       2.000000    8.000000      256.000000   \n50%       5.000000       38.100000       2.500000    8.000000      256.000000   \n75%       7.000000       39.620000       2.700000    8.000000      256.000000   \nmax       7.000000       43.940000       2.900000   16.000000      256.000000   \n\n         Weight_kg        Price  \ncount   238.000000   238.000000  \nunique         NaN          NaN  \ntop            NaN          NaN  \nfreq           NaN          NaN  \nmean      1.862232  1462.344538  \nstd       0.489090   574.607699  \nmin       0.810000   527.000000  \n25%       1.472500  1066.500000  \n50%       1.862232  1333.000000  \n75%       2.200000  1777.000000  \nmax       3.600000  3810.000000  ",
            "text/html": "<div>\n<style scoped>\n    .dataframe tbody tr th:only-of-type {\n        vertical-align: middle;\n    }\n\n    .dataframe tbody tr th {\n        vertical-align: top;\n    }\n\n    .dataframe thead th {\n        text-align: right;\n    }\n</style>\n<table border=\"1\" class=\"dataframe\">\n  <thead>\n    <tr style=\"text-align: right;\">\n      <th></th>\n      <th>Unnamed: 0</th>\n      <th>Manufacturer</th>\n      <th>Category</th>\n      <th>Screen</th>\n      <th>GPU</th>\n      <th>OS</th>\n      <th>CPU_core</th>\n      <th>Screen_Size_cm</th>\n      <th>CPU_frequency</th>\n      <th>RAM_GB</th>\n      <th>Storage_GB_SSD</th>\n      <th>Weight_kg</th>\n      <th>Price</th>\n    </tr>\n  </thead>\n  <tbody>\n    <tr>\n      <th>count</th>\n      <td>238.000000</td>\n      <td>238</td>\n      <td>238.000000</td>\n      <td>238</td>\n      <td>238.000000</td>\n      <td>238.000000</td>\n      <td>238.000000</td>\n      <td>238.000000</td>\n      <td>238.000000</td>\n      <td>238.000000</td>\n      <td>238.000000</td>\n      <td>238.000000</td>\n      <td>238.000000</td>\n    </tr>\n    <tr>\n      <th>unique</th>\n      <td>NaN</td>\n      <td>11</td>\n      <td>NaN</td>\n      <td>2</td>\n      <td>NaN</td>\n      <td>NaN</td>\n      <td>NaN</td>\n      <td>NaN</td>\n      <td>NaN</td>\n      <td>NaN</td>\n      <td>NaN</td>\n      <td>NaN</td>\n      <td>NaN</td>\n    </tr>\n    <tr>\n      <th>top</th>\n      <td>NaN</td>\n      <td>Dell</td>\n      <td>NaN</td>\n      <td>Full HD</td>\n      <td>NaN</td>\n      <td>NaN</td>\n      <td>NaN</td>\n      <td>NaN</td>\n      <td>NaN</td>\n      <td>NaN</td>\n      <td>NaN</td>\n      <td>NaN</td>\n      <td>NaN</td>\n    </tr>\n    <tr>\n      <th>freq</th>\n      <td>NaN</td>\n      <td>71</td>\n      <td>NaN</td>\n      <td>161</td>\n      <td>NaN</td>\n      <td>NaN</td>\n      <td>NaN</td>\n      <td>NaN</td>\n      <td>NaN</td>\n      <td>NaN</td>\n      <td>NaN</td>\n      <td>NaN</td>\n      <td>NaN</td>\n    </tr>\n    <tr>\n      <th>mean</th>\n      <td>118.500000</td>\n      <td>NaN</td>\n      <td>3.205882</td>\n      <td>NaN</td>\n      <td>2.151261</td>\n      <td>1.058824</td>\n      <td>5.630252</td>\n      <td>36.672811</td>\n      <td>2.360084</td>\n      <td>7.882353</td>\n      <td>245.781513</td>\n      <td>1.862232</td>\n      <td>1462.344538</td>\n    </tr>\n    <tr>\n      <th>std</th>\n      <td>68.848868</td>\n      <td>NaN</td>\n      <td>0.776533</td>\n      <td>NaN</td>\n      <td>0.638282</td>\n      <td>0.235790</td>\n      <td>1.241787</td>\n      <td>5.429074</td>\n      <td>0.411393</td>\n      <td>2.482603</td>\n      <td>34.765316</td>\n      <td>0.489090</td>\n      <td>574.607699</td>\n    </tr>\n    <tr>\n      <th>min</th>\n      <td>0.000000</td>\n      <td>NaN</td>\n      <td>1.000000</td>\n      <td>NaN</td>\n      <td>1.000000</td>\n      <td>1.000000</td>\n      <td>3.000000</td>\n      <td>1.862232</td>\n      <td>1.200000</td>\n      <td>4.000000</td>\n      <td>128.000000</td>\n      <td>0.810000</td>\n      <td>527.000000</td>\n    </tr>\n    <tr>\n      <th>25%</th>\n      <td>59.250000</td>\n      <td>NaN</td>\n      <td>3.000000</td>\n      <td>NaN</td>\n      <td>2.000000</td>\n      <td>1.000000</td>\n      <td>5.000000</td>\n      <td>35.560000</td>\n      <td>2.000000</td>\n      <td>8.000000</td>\n      <td>256.000000</td>\n      <td>1.472500</td>\n      <td>1066.500000</td>\n    </tr>\n    <tr>\n      <th>50%</th>\n      <td>118.500000</td>\n      <td>NaN</td>\n      <td>3.000000</td>\n      <td>NaN</td>\n      <td>2.000000</td>\n      <td>1.000000</td>\n      <td>5.000000</td>\n      <td>38.100000</td>\n      <td>2.500000</td>\n      <td>8.000000</td>\n      <td>256.000000</td>\n      <td>1.862232</td>\n      <td>1333.000000</td>\n    </tr>\n    <tr>\n      <th>75%</th>\n      <td>177.750000</td>\n      <td>NaN</td>\n      <td>4.000000</td>\n      <td>NaN</td>\n      <td>3.000000</td>\n      <td>1.000000</td>\n      <td>7.000000</td>\n      <td>39.620000</td>\n      <td>2.700000</td>\n      <td>8.000000</td>\n      <td>256.000000</td>\n      <td>2.200000</td>\n      <td>1777.000000</td>\n    </tr>\n    <tr>\n      <th>max</th>\n      <td>237.000000</td>\n      <td>NaN</td>\n      <td>5.000000</td>\n      <td>NaN</td>\n      <td>3.000000</td>\n      <td>2.000000</td>\n      <td>7.000000</td>\n      <td>43.940000</td>\n      <td>2.900000</td>\n      <td>16.000000</td>\n      <td>256.000000</td>\n      <td>3.600000</td>\n      <td>3810.000000</td>\n    </tr>\n  </tbody>\n</table>\n</div>"
          },
          "metadata": {}
        }
      ],
      "execution_count": 57
    },
    {
      "cell_type": "code",
      "source": "df.info()",
      "metadata": {
        "trusted": true
      },
      "outputs": [
        {
          "name": "stdout",
          "text": "<class 'pandas.core.frame.DataFrame'>\nRangeIndex: 238 entries, 0 to 237\nData columns (total 13 columns):\n #   Column          Non-Null Count  Dtype  \n---  ------          --------------  -----  \n 0   Unnamed: 0      238 non-null    int64  \n 1   Manufacturer    238 non-null    object \n 2   Category        238 non-null    int64  \n 3   Screen          238 non-null    object \n 4   GPU             238 non-null    int64  \n 5   OS              238 non-null    int64  \n 6   CPU_core        238 non-null    int64  \n 7   Screen_Size_cm  238 non-null    float64\n 8   CPU_frequency   238 non-null    float64\n 9   RAM_GB          238 non-null    int64  \n 10  Storage_GB_SSD  238 non-null    int64  \n 11  Weight_kg       238 non-null    float64\n 12  Price           238 non-null    int64  \ndtypes: float64(3), int64(8), object(2)\nmemory usage: 22.4+ KB\n",
          "output_type": "stream"
        }
      ],
      "execution_count": 58
    },
    {
      "cell_type": "code",
      "source": "df.head(5)",
      "metadata": {
        "trusted": true
      },
      "outputs": [
        {
          "execution_count": 59,
          "output_type": "execute_result",
          "data": {
            "text/plain": "   Unnamed: 0 Manufacturer  Category     Screen  GPU  OS  CPU_core  \\\n0           0         Acer         4  IPS Panel    2   1         5   \n1           1         Dell         3    Full HD    1   1         3   \n2           2         Dell         3    Full HD    1   1         7   \n3           3         Dell         4  IPS Panel    2   1         5   \n4           4           HP         4    Full HD    2   1         7   \n\n   Screen_Size_cm  CPU_frequency  RAM_GB  Storage_GB_SSD  Weight_kg  Price  \n0           35.56            1.6       8             256       1.60    978  \n1           39.62            2.0       4             256       2.20    634  \n2           39.62            2.7       8             256       2.20    946  \n3           33.78            1.6       8             128       1.22   1244  \n4           39.62            1.8       8             256       1.91    837  ",
            "text/html": "<div>\n<style scoped>\n    .dataframe tbody tr th:only-of-type {\n        vertical-align: middle;\n    }\n\n    .dataframe tbody tr th {\n        vertical-align: top;\n    }\n\n    .dataframe thead th {\n        text-align: right;\n    }\n</style>\n<table border=\"1\" class=\"dataframe\">\n  <thead>\n    <tr style=\"text-align: right;\">\n      <th></th>\n      <th>Unnamed: 0</th>\n      <th>Manufacturer</th>\n      <th>Category</th>\n      <th>Screen</th>\n      <th>GPU</th>\n      <th>OS</th>\n      <th>CPU_core</th>\n      <th>Screen_Size_cm</th>\n      <th>CPU_frequency</th>\n      <th>RAM_GB</th>\n      <th>Storage_GB_SSD</th>\n      <th>Weight_kg</th>\n      <th>Price</th>\n    </tr>\n  </thead>\n  <tbody>\n    <tr>\n      <th>0</th>\n      <td>0</td>\n      <td>Acer</td>\n      <td>4</td>\n      <td>IPS Panel</td>\n      <td>2</td>\n      <td>1</td>\n      <td>5</td>\n      <td>35.56</td>\n      <td>1.6</td>\n      <td>8</td>\n      <td>256</td>\n      <td>1.60</td>\n      <td>978</td>\n    </tr>\n    <tr>\n      <th>1</th>\n      <td>1</td>\n      <td>Dell</td>\n      <td>3</td>\n      <td>Full HD</td>\n      <td>1</td>\n      <td>1</td>\n      <td>3</td>\n      <td>39.62</td>\n      <td>2.0</td>\n      <td>4</td>\n      <td>256</td>\n      <td>2.20</td>\n      <td>634</td>\n    </tr>\n    <tr>\n      <th>2</th>\n      <td>2</td>\n      <td>Dell</td>\n      <td>3</td>\n      <td>Full HD</td>\n      <td>1</td>\n      <td>1</td>\n      <td>7</td>\n      <td>39.62</td>\n      <td>2.7</td>\n      <td>8</td>\n      <td>256</td>\n      <td>2.20</td>\n      <td>946</td>\n    </tr>\n    <tr>\n      <th>3</th>\n      <td>3</td>\n      <td>Dell</td>\n      <td>4</td>\n      <td>IPS Panel</td>\n      <td>2</td>\n      <td>1</td>\n      <td>5</td>\n      <td>33.78</td>\n      <td>1.6</td>\n      <td>8</td>\n      <td>128</td>\n      <td>1.22</td>\n      <td>1244</td>\n    </tr>\n    <tr>\n      <th>4</th>\n      <td>4</td>\n      <td>HP</td>\n      <td>4</td>\n      <td>Full HD</td>\n      <td>2</td>\n      <td>1</td>\n      <td>7</td>\n      <td>39.62</td>\n      <td>1.8</td>\n      <td>8</td>\n      <td>256</td>\n      <td>1.91</td>\n      <td>837</td>\n    </tr>\n  </tbody>\n</table>\n</div>"
          },
          "metadata": {}
        }
      ],
      "execution_count": 59
    },
    {
      "cell_type": "code",
      "source": "df['Screen_Size_cm'].median()",
      "metadata": {
        "trusted": true
      },
      "outputs": [
        {
          "execution_count": 60,
          "output_type": "execute_result",
          "data": {
            "text/plain": "38.1"
          },
          "metadata": {}
        }
      ],
      "execution_count": 60
    },
    {
      "cell_type": "code",
      "source": "df['Screen_Size_cm'].idxmax()",
      "metadata": {
        "trusted": true
      },
      "outputs": [
        {
          "execution_count": 61,
          "output_type": "execute_result",
          "data": {
            "text/plain": "34"
          },
          "metadata": {}
        }
      ],
      "execution_count": 61
    },
    {
      "cell_type": "code",
      "source": "df['Screen_Size_cm'].mode()",
      "metadata": {
        "trusted": true
      },
      "outputs": [
        {
          "execution_count": 62,
          "output_type": "execute_result",
          "data": {
            "text/plain": "0    39.62\nName: Screen_Size_cm, dtype: float64"
          },
          "metadata": {}
        }
      ],
      "execution_count": 62
    },
    {
      "cell_type": "code",
      "source": "df['Screen_Size_cm'].value_counts.idxmax()",
      "metadata": {
        "trusted": true
      },
      "outputs": [
        {
          "ename": "<class 'AttributeError'>",
          "evalue": "'function' object has no attribute 'idxmax'",
          "traceback": [
            "\u001b[0;31m---------------------------------------------------------------------------\u001b[0m",
            "\u001b[0;31mAttributeError\u001b[0m                            Traceback (most recent call last)",
            "Cell \u001b[0;32mIn[63], line 1\u001b[0m\n\u001b[0;32m----> 1\u001b[0m \u001b[43mdf\u001b[49m\u001b[43m[\u001b[49m\u001b[38;5;124;43m'\u001b[39;49m\u001b[38;5;124;43mScreen_Size_cm\u001b[39;49m\u001b[38;5;124;43m'\u001b[39;49m\u001b[43m]\u001b[49m\u001b[38;5;241;43m.\u001b[39;49m\u001b[43mvalue_counts\u001b[49m\u001b[38;5;241;43m.\u001b[39;49m\u001b[43midxmax\u001b[49m()\n",
            "\u001b[0;31mAttributeError\u001b[0m: 'function' object has no attribute 'idxmax'"
          ],
          "output_type": "error"
        }
      ],
      "execution_count": 63
    },
    {
      "cell_type": "code",
      "source": "df['Screen_Size_cm'].value_counts().idxmax()",
      "metadata": {
        "trusted": true
      },
      "outputs": [
        {
          "execution_count": 64,
          "output_type": "execute_result",
          "data": {
            "text/plain": "39.62"
          },
          "metadata": {}
        }
      ],
      "execution_count": 64
    },
    {
      "cell_type": "code",
      "source": "#tanto la moda como df.value_counts().idxmax() dan el mismo resultado.\n##idxmax lo que hace es que te devuelve el máximo resultado de una columna . \n###en este caso saca el máximo valor de la columna de contaje de valores por value_counts() \n",
      "metadata": {
        "trusted": true
      },
      "outputs": [],
      "execution_count": 65
    },
    {
      "cell_type": "code",
      "source": "most_common_screen_size=df['Screen_Size_cm'].value_counts().idxmax()",
      "metadata": {
        "trusted": true
      },
      "outputs": [],
      "execution_count": 66
    },
    {
      "cell_type": "code",
      "source": "df['Screen_Size_cm'].replace(np.nan, most_common_screen_size, inplace=True)",
      "metadata": {
        "trusted": true
      },
      "outputs": [
        {
          "name": "stderr",
          "text": "<ipython-input-67-23a0adedfc8c>:1: FutureWarning: A value is trying to be set on a copy of a DataFrame or Series through chained assignment using an inplace method.\nThe behavior will change in pandas 3.0. This inplace method will never work because the intermediate object on which we are setting values always behaves as a copy.\n\nFor example, when doing 'df[col].method(value, inplace=True)', try using 'df.method({col: value}, inplace=True)' or df[col] = df[col].method(value) instead, to perform the operation inplace on the original object.\n\n\n  df['Screen_Size_cm'].replace(np.nan, most_common_screen_size, inplace=True)\n",
          "output_type": "stream"
        }
      ],
      "execution_count": 67
    },
    {
      "cell_type": "code",
      "source": "#fixing data types\n\ndf['Weight_kg'].astype(float)",
      "metadata": {
        "trusted": true
      },
      "outputs": [
        {
          "execution_count": 68,
          "output_type": "execute_result",
          "data": {
            "text/plain": "0      1.60\n1      2.20\n2      2.20\n3      1.22\n4      1.91\n       ... \n233    1.70\n234    1.20\n235    1.36\n236    2.40\n237    1.95\nName: Weight_kg, Length: 238, dtype: float64"
          },
          "metadata": {}
        }
      ],
      "execution_count": 68
    },
    {
      "cell_type": "code",
      "source": "df.info()\n",
      "metadata": {
        "trusted": true
      },
      "outputs": [
        {
          "name": "stdout",
          "text": "<class 'pandas.core.frame.DataFrame'>\nRangeIndex: 238 entries, 0 to 237\nData columns (total 13 columns):\n #   Column          Non-Null Count  Dtype  \n---  ------          --------------  -----  \n 0   Unnamed: 0      238 non-null    int64  \n 1   Manufacturer    238 non-null    object \n 2   Category        238 non-null    int64  \n 3   Screen          238 non-null    object \n 4   GPU             238 non-null    int64  \n 5   OS              238 non-null    int64  \n 6   CPU_core        238 non-null    int64  \n 7   Screen_Size_cm  238 non-null    float64\n 8   CPU_frequency   238 non-null    float64\n 9   RAM_GB          238 non-null    int64  \n 10  Storage_GB_SSD  238 non-null    int64  \n 11  Weight_kg       238 non-null    float64\n 12  Price           238 non-null    int64  \ndtypes: float64(3), int64(8), object(2)\nmemory usage: 22.4+ KB\n",
          "output_type": "stream"
        }
      ],
      "execution_count": 69
    },
    {
      "cell_type": "code",
      "source": "#data standardization\n\ndf['Screen_Size_cm']=df['Screen_Size_cm']/2.54\ndf.rename(columns={'Screen_Size_cm':'Screen_Size_inch'})\n\ndf['Weight_kg']=df['Weight_kg']*2.205\ndf.rename(columns={'Weight_kg':'Weight_pounds'})",
      "metadata": {
        "trusted": true
      },
      "outputs": [
        {
          "execution_count": 70,
          "output_type": "execute_result",
          "data": {
            "text/plain": "     Unnamed: 0 Manufacturer  Category     Screen  GPU  OS  CPU_core  \\\n0             0         Acer         4  IPS Panel    2   1         5   \n1             1         Dell         3    Full HD    1   1         3   \n2             2         Dell         3    Full HD    1   1         7   \n3             3         Dell         4  IPS Panel    2   1         5   \n4             4           HP         4    Full HD    2   1         7   \n..          ...          ...       ...        ...  ...  ..       ...   \n233         233       Lenovo         4  IPS Panel    2   1         7   \n234         234      Toshiba         3    Full HD    2   1         5   \n235         235       Lenovo         4  IPS Panel    2   1         5   \n236         236       Lenovo         3    Full HD    3   1         5   \n237         237      Toshiba         3    Full HD    2   1         5   \n\n     Screen_Size_cm  CPU_frequency  RAM_GB  Storage_GB_SSD  Weight_pounds  \\\n0         14.000000            1.6       8             256        3.52800   \n1         15.598425            2.0       4             256        4.85100   \n2         15.598425            2.7       8             256        4.85100   \n3         13.299213            1.6       8             128        2.69010   \n4         15.598425            1.8       8             256        4.21155   \n..              ...            ...     ...             ...            ...   \n233       14.000000            2.6       8             256        3.74850   \n234       13.299213            2.4       8             256        2.64600   \n235       12.000000            2.6       8             256        2.99880   \n236       15.598425            2.5       6             256        5.29200   \n237       14.000000            2.3       8             256        4.29975   \n\n     Price  \n0      978  \n1      634  \n2      946  \n3     1244  \n4      837  \n..     ...  \n233   1891  \n234   1950  \n235   2236  \n236    883  \n237   1499  \n\n[238 rows x 13 columns]",
            "text/html": "<div>\n<style scoped>\n    .dataframe tbody tr th:only-of-type {\n        vertical-align: middle;\n    }\n\n    .dataframe tbody tr th {\n        vertical-align: top;\n    }\n\n    .dataframe thead th {\n        text-align: right;\n    }\n</style>\n<table border=\"1\" class=\"dataframe\">\n  <thead>\n    <tr style=\"text-align: right;\">\n      <th></th>\n      <th>Unnamed: 0</th>\n      <th>Manufacturer</th>\n      <th>Category</th>\n      <th>Screen</th>\n      <th>GPU</th>\n      <th>OS</th>\n      <th>CPU_core</th>\n      <th>Screen_Size_cm</th>\n      <th>CPU_frequency</th>\n      <th>RAM_GB</th>\n      <th>Storage_GB_SSD</th>\n      <th>Weight_pounds</th>\n      <th>Price</th>\n    </tr>\n  </thead>\n  <tbody>\n    <tr>\n      <th>0</th>\n      <td>0</td>\n      <td>Acer</td>\n      <td>4</td>\n      <td>IPS Panel</td>\n      <td>2</td>\n      <td>1</td>\n      <td>5</td>\n      <td>14.000000</td>\n      <td>1.6</td>\n      <td>8</td>\n      <td>256</td>\n      <td>3.52800</td>\n      <td>978</td>\n    </tr>\n    <tr>\n      <th>1</th>\n      <td>1</td>\n      <td>Dell</td>\n      <td>3</td>\n      <td>Full HD</td>\n      <td>1</td>\n      <td>1</td>\n      <td>3</td>\n      <td>15.598425</td>\n      <td>2.0</td>\n      <td>4</td>\n      <td>256</td>\n      <td>4.85100</td>\n      <td>634</td>\n    </tr>\n    <tr>\n      <th>2</th>\n      <td>2</td>\n      <td>Dell</td>\n      <td>3</td>\n      <td>Full HD</td>\n      <td>1</td>\n      <td>1</td>\n      <td>7</td>\n      <td>15.598425</td>\n      <td>2.7</td>\n      <td>8</td>\n      <td>256</td>\n      <td>4.85100</td>\n      <td>946</td>\n    </tr>\n    <tr>\n      <th>3</th>\n      <td>3</td>\n      <td>Dell</td>\n      <td>4</td>\n      <td>IPS Panel</td>\n      <td>2</td>\n      <td>1</td>\n      <td>5</td>\n      <td>13.299213</td>\n      <td>1.6</td>\n      <td>8</td>\n      <td>128</td>\n      <td>2.69010</td>\n      <td>1244</td>\n    </tr>\n    <tr>\n      <th>4</th>\n      <td>4</td>\n      <td>HP</td>\n      <td>4</td>\n      <td>Full HD</td>\n      <td>2</td>\n      <td>1</td>\n      <td>7</td>\n      <td>15.598425</td>\n      <td>1.8</td>\n      <td>8</td>\n      <td>256</td>\n      <td>4.21155</td>\n      <td>837</td>\n    </tr>\n    <tr>\n      <th>...</th>\n      <td>...</td>\n      <td>...</td>\n      <td>...</td>\n      <td>...</td>\n      <td>...</td>\n      <td>...</td>\n      <td>...</td>\n      <td>...</td>\n      <td>...</td>\n      <td>...</td>\n      <td>...</td>\n      <td>...</td>\n      <td>...</td>\n    </tr>\n    <tr>\n      <th>233</th>\n      <td>233</td>\n      <td>Lenovo</td>\n      <td>4</td>\n      <td>IPS Panel</td>\n      <td>2</td>\n      <td>1</td>\n      <td>7</td>\n      <td>14.000000</td>\n      <td>2.6</td>\n      <td>8</td>\n      <td>256</td>\n      <td>3.74850</td>\n      <td>1891</td>\n    </tr>\n    <tr>\n      <th>234</th>\n      <td>234</td>\n      <td>Toshiba</td>\n      <td>3</td>\n      <td>Full HD</td>\n      <td>2</td>\n      <td>1</td>\n      <td>5</td>\n      <td>13.299213</td>\n      <td>2.4</td>\n      <td>8</td>\n      <td>256</td>\n      <td>2.64600</td>\n      <td>1950</td>\n    </tr>\n    <tr>\n      <th>235</th>\n      <td>235</td>\n      <td>Lenovo</td>\n      <td>4</td>\n      <td>IPS Panel</td>\n      <td>2</td>\n      <td>1</td>\n      <td>5</td>\n      <td>12.000000</td>\n      <td>2.6</td>\n      <td>8</td>\n      <td>256</td>\n      <td>2.99880</td>\n      <td>2236</td>\n    </tr>\n    <tr>\n      <th>236</th>\n      <td>236</td>\n      <td>Lenovo</td>\n      <td>3</td>\n      <td>Full HD</td>\n      <td>3</td>\n      <td>1</td>\n      <td>5</td>\n      <td>15.598425</td>\n      <td>2.5</td>\n      <td>6</td>\n      <td>256</td>\n      <td>5.29200</td>\n      <td>883</td>\n    </tr>\n    <tr>\n      <th>237</th>\n      <td>237</td>\n      <td>Toshiba</td>\n      <td>3</td>\n      <td>Full HD</td>\n      <td>2</td>\n      <td>1</td>\n      <td>5</td>\n      <td>14.000000</td>\n      <td>2.3</td>\n      <td>8</td>\n      <td>256</td>\n      <td>4.29975</td>\n      <td>1499</td>\n    </tr>\n  </tbody>\n</table>\n<p>238 rows × 13 columns</p>\n</div>"
          },
          "metadata": {}
        }
      ],
      "execution_count": 70
    },
    {
      "cell_type": "code",
      "source": "df.describe()\n\n\n",
      "metadata": {
        "trusted": true
      },
      "outputs": [
        {
          "execution_count": 71,
          "output_type": "execute_result",
          "data": {
            "text/plain": "       Unnamed: 0    Category         GPU          OS    CPU_core  \\\ncount  238.000000  238.000000  238.000000  238.000000  238.000000   \nmean   118.500000    3.205882    2.151261    1.058824    5.630252   \nstd     68.848868    0.776533    0.638282    0.235790    1.241787   \nmin      0.000000    1.000000    1.000000    1.000000    3.000000   \n25%     59.250000    3.000000    2.000000    1.000000    5.000000   \n50%    118.500000    3.000000    2.000000    1.000000    5.000000   \n75%    177.750000    4.000000    3.000000    1.000000    7.000000   \nmax    237.000000    5.000000    3.000000    2.000000    7.000000   \n\n       Screen_Size_cm  CPU_frequency      RAM_GB  Storage_GB_SSD   Weight_kg  \\\ncount      238.000000     238.000000  238.000000      238.000000  238.000000   \nmean        14.438114       2.360084    7.882353      245.781513    4.106221   \nstd          2.137431       0.411393    2.482603       34.765316    1.078442   \nmin          0.733162       1.200000    4.000000      128.000000    1.786050   \n25%         14.000000       2.000000    8.000000      256.000000    3.246863   \n50%         15.000000       2.500000    8.000000      256.000000    4.106221   \n75%         15.598425       2.700000    8.000000      256.000000    4.851000   \nmax         17.299213       2.900000   16.000000      256.000000    7.938000   \n\n             Price  \ncount   238.000000  \nmean   1462.344538  \nstd     574.607699  \nmin     527.000000  \n25%    1066.500000  \n50%    1333.000000  \n75%    1777.000000  \nmax    3810.000000  ",
            "text/html": "<div>\n<style scoped>\n    .dataframe tbody tr th:only-of-type {\n        vertical-align: middle;\n    }\n\n    .dataframe tbody tr th {\n        vertical-align: top;\n    }\n\n    .dataframe thead th {\n        text-align: right;\n    }\n</style>\n<table border=\"1\" class=\"dataframe\">\n  <thead>\n    <tr style=\"text-align: right;\">\n      <th></th>\n      <th>Unnamed: 0</th>\n      <th>Category</th>\n      <th>GPU</th>\n      <th>OS</th>\n      <th>CPU_core</th>\n      <th>Screen_Size_cm</th>\n      <th>CPU_frequency</th>\n      <th>RAM_GB</th>\n      <th>Storage_GB_SSD</th>\n      <th>Weight_kg</th>\n      <th>Price</th>\n    </tr>\n  </thead>\n  <tbody>\n    <tr>\n      <th>count</th>\n      <td>238.000000</td>\n      <td>238.000000</td>\n      <td>238.000000</td>\n      <td>238.000000</td>\n      <td>238.000000</td>\n      <td>238.000000</td>\n      <td>238.000000</td>\n      <td>238.000000</td>\n      <td>238.000000</td>\n      <td>238.000000</td>\n      <td>238.000000</td>\n    </tr>\n    <tr>\n      <th>mean</th>\n      <td>118.500000</td>\n      <td>3.205882</td>\n      <td>2.151261</td>\n      <td>1.058824</td>\n      <td>5.630252</td>\n      <td>14.438114</td>\n      <td>2.360084</td>\n      <td>7.882353</td>\n      <td>245.781513</td>\n      <td>4.106221</td>\n      <td>1462.344538</td>\n    </tr>\n    <tr>\n      <th>std</th>\n      <td>68.848868</td>\n      <td>0.776533</td>\n      <td>0.638282</td>\n      <td>0.235790</td>\n      <td>1.241787</td>\n      <td>2.137431</td>\n      <td>0.411393</td>\n      <td>2.482603</td>\n      <td>34.765316</td>\n      <td>1.078442</td>\n      <td>574.607699</td>\n    </tr>\n    <tr>\n      <th>min</th>\n      <td>0.000000</td>\n      <td>1.000000</td>\n      <td>1.000000</td>\n      <td>1.000000</td>\n      <td>3.000000</td>\n      <td>0.733162</td>\n      <td>1.200000</td>\n      <td>4.000000</td>\n      <td>128.000000</td>\n      <td>1.786050</td>\n      <td>527.000000</td>\n    </tr>\n    <tr>\n      <th>25%</th>\n      <td>59.250000</td>\n      <td>3.000000</td>\n      <td>2.000000</td>\n      <td>1.000000</td>\n      <td>5.000000</td>\n      <td>14.000000</td>\n      <td>2.000000</td>\n      <td>8.000000</td>\n      <td>256.000000</td>\n      <td>3.246863</td>\n      <td>1066.500000</td>\n    </tr>\n    <tr>\n      <th>50%</th>\n      <td>118.500000</td>\n      <td>3.000000</td>\n      <td>2.000000</td>\n      <td>1.000000</td>\n      <td>5.000000</td>\n      <td>15.000000</td>\n      <td>2.500000</td>\n      <td>8.000000</td>\n      <td>256.000000</td>\n      <td>4.106221</td>\n      <td>1333.000000</td>\n    </tr>\n    <tr>\n      <th>75%</th>\n      <td>177.750000</td>\n      <td>4.000000</td>\n      <td>3.000000</td>\n      <td>1.000000</td>\n      <td>7.000000</td>\n      <td>15.598425</td>\n      <td>2.700000</td>\n      <td>8.000000</td>\n      <td>256.000000</td>\n      <td>4.851000</td>\n      <td>1777.000000</td>\n    </tr>\n    <tr>\n      <th>max</th>\n      <td>237.000000</td>\n      <td>5.000000</td>\n      <td>3.000000</td>\n      <td>2.000000</td>\n      <td>7.000000</td>\n      <td>17.299213</td>\n      <td>2.900000</td>\n      <td>16.000000</td>\n      <td>256.000000</td>\n      <td>7.938000</td>\n      <td>3810.000000</td>\n    </tr>\n  </tbody>\n</table>\n</div>"
          },
          "metadata": {}
        }
      ],
      "execution_count": 71
    },
    {
      "cell_type": "code",
      "source": "df['CPU_frequency'].idxmax()",
      "metadata": {
        "trusted": true
      },
      "outputs": [
        {
          "execution_count": 72,
          "output_type": "execute_result",
          "data": {
            "text/plain": "64"
          },
          "metadata": {}
        }
      ],
      "execution_count": 72
    },
    {
      "cell_type": "code",
      "source": "df['CPU_frequency'].max()",
      "metadata": {
        "trusted": true
      },
      "outputs": [
        {
          "execution_count": 73,
          "output_type": "execute_result",
          "data": {
            "text/plain": "2.9"
          },
          "metadata": {}
        }
      ],
      "execution_count": 73
    },
    {
      "cell_type": "code",
      "source": "df['CPU_frequency']=df['CPU_frequency']/df['CPU_frequency'].max()",
      "metadata": {
        "trusted": true
      },
      "outputs": [],
      "execution_count": 74
    },
    {
      "cell_type": "code",
      "source": "#Binning\n\nbins=np.linspace(min['Price'],max['Price'], 3)\nCategories={'Low','Medium','High'}\ndf['Price-binned']=df.cut(df['Price'], bins, labels=Categories, include_lowest=True)",
      "metadata": {
        "trusted": true
      },
      "outputs": [
        {
          "ename": "<class 'TypeError'>",
          "evalue": "'builtin_function_or_method' object is not subscriptable",
          "traceback": [
            "\u001b[0;31m---------------------------------------------------------------------------\u001b[0m",
            "\u001b[0;31mTypeError\u001b[0m                                 Traceback (most recent call last)",
            "Cell \u001b[0;32mIn[75], line 3\u001b[0m\n\u001b[1;32m      1\u001b[0m \u001b[38;5;66;03m#Binning\u001b[39;00m\n\u001b[0;32m----> 3\u001b[0m bins\u001b[38;5;241m=\u001b[39mnp\u001b[38;5;241m.\u001b[39mlinspace(\u001b[38;5;28;43mmin\u001b[39;49m\u001b[43m[\u001b[49m\u001b[38;5;124;43m'\u001b[39;49m\u001b[38;5;124;43mPrice\u001b[39;49m\u001b[38;5;124;43m'\u001b[39;49m\u001b[43m]\u001b[49m,\u001b[38;5;28mmax\u001b[39m[\u001b[38;5;124m'\u001b[39m\u001b[38;5;124mPrice\u001b[39m\u001b[38;5;124m'\u001b[39m], \u001b[38;5;241m3\u001b[39m)\n\u001b[1;32m      4\u001b[0m Categories\u001b[38;5;241m=\u001b[39m{\u001b[38;5;124m'\u001b[39m\u001b[38;5;124mLow\u001b[39m\u001b[38;5;124m'\u001b[39m,\u001b[38;5;124m'\u001b[39m\u001b[38;5;124mMedium\u001b[39m\u001b[38;5;124m'\u001b[39m,\u001b[38;5;124m'\u001b[39m\u001b[38;5;124mHigh\u001b[39m\u001b[38;5;124m'\u001b[39m}\n\u001b[1;32m      5\u001b[0m df[\u001b[38;5;124m'\u001b[39m\u001b[38;5;124mPrice-binned\u001b[39m\u001b[38;5;124m'\u001b[39m]\u001b[38;5;241m=\u001b[39mdf\u001b[38;5;241m.\u001b[39mcut(df[\u001b[38;5;124m'\u001b[39m\u001b[38;5;124mPrice\u001b[39m\u001b[38;5;124m'\u001b[39m], bins, labels\u001b[38;5;241m=\u001b[39mCategories, include_lowest\u001b[38;5;241m=\u001b[39m\u001b[38;5;28;01mTrue\u001b[39;00m)\n",
            "\u001b[0;31mTypeError\u001b[0m: 'builtin_function_or_method' object is not subscriptable"
          ],
          "output_type": "error"
        }
      ],
      "execution_count": 75
    },
    {
      "cell_type": "code",
      "source": "#Binning\n\nbins=np.linspace(df['Price'].min(),df['Price'].max(), 3)\nCategories={'Low','Medium','High'}\ndf['Price-binned']=df.cut(df['Price'], bins, labels=Categories, include_lowest=True)",
      "metadata": {
        "trusted": true
      },
      "outputs": [
        {
          "ename": "<class 'AttributeError'>",
          "evalue": "'DataFrame' object has no attribute 'cut'",
          "traceback": [
            "\u001b[0;31m---------------------------------------------------------------------------\u001b[0m",
            "\u001b[0;31mAttributeError\u001b[0m                            Traceback (most recent call last)",
            "\u001b[0;32m<ipython-input-76-0ed71e2a0ede>\u001b[0m in \u001b[0;36m?\u001b[0;34m()\u001b[0m\n\u001b[1;32m      1\u001b[0m \u001b[0;31m#Binning\u001b[0m\u001b[0;34m\u001b[0m\u001b[0;34m\u001b[0m\u001b[0m\n\u001b[1;32m      2\u001b[0m \u001b[0;34m\u001b[0m\u001b[0m\n\u001b[1;32m      3\u001b[0m \u001b[0mbins\u001b[0m\u001b[0;34m=\u001b[0m\u001b[0mnp\u001b[0m\u001b[0;34m.\u001b[0m\u001b[0mlinspace\u001b[0m\u001b[0;34m(\u001b[0m\u001b[0mdf\u001b[0m\u001b[0;34m[\u001b[0m\u001b[0;34m'Price'\u001b[0m\u001b[0;34m]\u001b[0m\u001b[0;34m.\u001b[0m\u001b[0mmin\u001b[0m\u001b[0;34m(\u001b[0m\u001b[0;34m)\u001b[0m\u001b[0;34m,\u001b[0m\u001b[0mdf\u001b[0m\u001b[0;34m[\u001b[0m\u001b[0;34m'Price'\u001b[0m\u001b[0;34m]\u001b[0m\u001b[0;34m.\u001b[0m\u001b[0mmax\u001b[0m\u001b[0;34m(\u001b[0m\u001b[0;34m)\u001b[0m\u001b[0;34m,\u001b[0m \u001b[0;36m3\u001b[0m\u001b[0;34m)\u001b[0m\u001b[0;34m\u001b[0m\u001b[0;34m\u001b[0m\u001b[0m\n\u001b[1;32m      4\u001b[0m \u001b[0mCategories\u001b[0m\u001b[0;34m=\u001b[0m\u001b[0;34m{\u001b[0m\u001b[0;34m'Low'\u001b[0m\u001b[0;34m,\u001b[0m\u001b[0;34m'Medium'\u001b[0m\u001b[0;34m,\u001b[0m\u001b[0;34m'High'\u001b[0m\u001b[0;34m}\u001b[0m\u001b[0;34m\u001b[0m\u001b[0;34m\u001b[0m\u001b[0m\n\u001b[0;32m----> 5\u001b[0;31m \u001b[0mdf\u001b[0m\u001b[0;34m[\u001b[0m\u001b[0;34m'Price-binned'\u001b[0m\u001b[0;34m]\u001b[0m\u001b[0;34m=\u001b[0m\u001b[0mdf\u001b[0m\u001b[0;34m.\u001b[0m\u001b[0mcut\u001b[0m\u001b[0;34m(\u001b[0m\u001b[0mdf\u001b[0m\u001b[0;34m[\u001b[0m\u001b[0;34m'Price'\u001b[0m\u001b[0;34m]\u001b[0m\u001b[0;34m,\u001b[0m \u001b[0mbins\u001b[0m\u001b[0;34m,\u001b[0m \u001b[0mlabels\u001b[0m\u001b[0;34m=\u001b[0m\u001b[0mCategories\u001b[0m\u001b[0;34m,\u001b[0m \u001b[0minclude_lowest\u001b[0m\u001b[0;34m=\u001b[0m\u001b[0;32mTrue\u001b[0m\u001b[0;34m)\u001b[0m\u001b[0;34m\u001b[0m\u001b[0;34m\u001b[0m\u001b[0m\n\u001b[0m",
            "\u001b[0;32m/lib/python3.12/site-packages/pandas/core/generic.py\u001b[0m in \u001b[0;36m?\u001b[0;34m(self, name)\u001b[0m\n\u001b[1;32m   6289\u001b[0m             \u001b[0;32mand\u001b[0m \u001b[0mname\u001b[0m \u001b[0;32mnot\u001b[0m \u001b[0;32min\u001b[0m \u001b[0mself\u001b[0m\u001b[0;34m.\u001b[0m\u001b[0m_accessors\u001b[0m\u001b[0;34m\u001b[0m\u001b[0;34m\u001b[0m\u001b[0m\n\u001b[1;32m   6290\u001b[0m             \u001b[0;32mand\u001b[0m \u001b[0mself\u001b[0m\u001b[0;34m.\u001b[0m\u001b[0m_info_axis\u001b[0m\u001b[0;34m.\u001b[0m\u001b[0m_can_hold_identifiers_and_holds_name\u001b[0m\u001b[0;34m(\u001b[0m\u001b[0mname\u001b[0m\u001b[0;34m)\u001b[0m\u001b[0;34m\u001b[0m\u001b[0;34m\u001b[0m\u001b[0m\n\u001b[1;32m   6291\u001b[0m         \u001b[0;34m)\u001b[0m\u001b[0;34m:\u001b[0m\u001b[0;34m\u001b[0m\u001b[0;34m\u001b[0m\u001b[0m\n\u001b[1;32m   6292\u001b[0m             \u001b[0;32mreturn\u001b[0m \u001b[0mself\u001b[0m\u001b[0;34m[\u001b[0m\u001b[0mname\u001b[0m\u001b[0;34m]\u001b[0m\u001b[0;34m\u001b[0m\u001b[0;34m\u001b[0m\u001b[0m\n\u001b[0;32m-> 6293\u001b[0;31m         \u001b[0;32mreturn\u001b[0m \u001b[0mobject\u001b[0m\u001b[0;34m.\u001b[0m\u001b[0m__getattribute__\u001b[0m\u001b[0;34m(\u001b[0m\u001b[0mself\u001b[0m\u001b[0;34m,\u001b[0m \u001b[0mname\u001b[0m\u001b[0;34m)\u001b[0m\u001b[0;34m\u001b[0m\u001b[0;34m\u001b[0m\u001b[0m\n\u001b[0m",
            "\u001b[0;31mAttributeError\u001b[0m: 'DataFrame' object has no attribute 'cut'"
          ],
          "output_type": "error"
        }
      ],
      "execution_count": 76
    },
    {
      "cell_type": "code",
      "source": "#Binning\n\nbins=np.linspace(df['Price'].min(),df['Price'].max(), 3)\nCategories={'Low','Medium','High'}\ndf['Price-binned']=pd.cut(df['Price'], bins, labels=Categories, include_lowest=True)",
      "metadata": {
        "trusted": true
      },
      "outputs": [
        {
          "ename": "<class 'ValueError'>",
          "evalue": "Bin labels must be one fewer than the number of bin edges",
          "traceback": [
            "\u001b[0;31m---------------------------------------------------------------------------\u001b[0m",
            "\u001b[0;31mValueError\u001b[0m                                Traceback (most recent call last)",
            "Cell \u001b[0;32mIn[77], line 5\u001b[0m\n\u001b[1;32m      3\u001b[0m bins\u001b[38;5;241m=\u001b[39mnp\u001b[38;5;241m.\u001b[39mlinspace(df[\u001b[38;5;124m'\u001b[39m\u001b[38;5;124mPrice\u001b[39m\u001b[38;5;124m'\u001b[39m]\u001b[38;5;241m.\u001b[39mmin(),df[\u001b[38;5;124m'\u001b[39m\u001b[38;5;124mPrice\u001b[39m\u001b[38;5;124m'\u001b[39m]\u001b[38;5;241m.\u001b[39mmax(), \u001b[38;5;241m3\u001b[39m)\n\u001b[1;32m      4\u001b[0m Categories\u001b[38;5;241m=\u001b[39m{\u001b[38;5;124m'\u001b[39m\u001b[38;5;124mLow\u001b[39m\u001b[38;5;124m'\u001b[39m,\u001b[38;5;124m'\u001b[39m\u001b[38;5;124mMedium\u001b[39m\u001b[38;5;124m'\u001b[39m,\u001b[38;5;124m'\u001b[39m\u001b[38;5;124mHigh\u001b[39m\u001b[38;5;124m'\u001b[39m}\n\u001b[0;32m----> 5\u001b[0m df[\u001b[38;5;124m'\u001b[39m\u001b[38;5;124mPrice-binned\u001b[39m\u001b[38;5;124m'\u001b[39m]\u001b[38;5;241m=\u001b[39m\u001b[43mpd\u001b[49m\u001b[38;5;241;43m.\u001b[39;49m\u001b[43mcut\u001b[49m\u001b[43m(\u001b[49m\u001b[43mdf\u001b[49m\u001b[43m[\u001b[49m\u001b[38;5;124;43m'\u001b[39;49m\u001b[38;5;124;43mPrice\u001b[39;49m\u001b[38;5;124;43m'\u001b[39;49m\u001b[43m]\u001b[49m\u001b[43m,\u001b[49m\u001b[43m \u001b[49m\u001b[43mbins\u001b[49m\u001b[43m,\u001b[49m\u001b[43m \u001b[49m\u001b[43mlabels\u001b[49m\u001b[38;5;241;43m=\u001b[39;49m\u001b[43mCategories\u001b[49m\u001b[43m,\u001b[49m\u001b[43m \u001b[49m\u001b[43minclude_lowest\u001b[49m\u001b[38;5;241;43m=\u001b[39;49m\u001b[38;5;28;43;01mTrue\u001b[39;49;00m\u001b[43m)\u001b[49m\n",
            "File \u001b[0;32m/lib/python3.12/site-packages/pandas/core/reshape/tile.py:257\u001b[0m, in \u001b[0;36mcut\u001b[0;34m(x, bins, right, labels, retbins, precision, include_lowest, duplicates, ordered)\u001b[0m\n\u001b[1;32m    254\u001b[0m     \u001b[38;5;28;01mif\u001b[39;00m \u001b[38;5;129;01mnot\u001b[39;00m bins\u001b[38;5;241m.\u001b[39mis_monotonic_increasing:\n\u001b[1;32m    255\u001b[0m         \u001b[38;5;28;01mraise\u001b[39;00m \u001b[38;5;167;01mValueError\u001b[39;00m(\u001b[38;5;124m\"\u001b[39m\u001b[38;5;124mbins must increase monotonically.\u001b[39m\u001b[38;5;124m\"\u001b[39m)\n\u001b[0;32m--> 257\u001b[0m fac, bins \u001b[38;5;241m=\u001b[39m \u001b[43m_bins_to_cuts\u001b[49m\u001b[43m(\u001b[49m\n\u001b[1;32m    258\u001b[0m \u001b[43m    \u001b[49m\u001b[43mx_idx\u001b[49m\u001b[43m,\u001b[49m\n\u001b[1;32m    259\u001b[0m \u001b[43m    \u001b[49m\u001b[43mbins\u001b[49m\u001b[43m,\u001b[49m\n\u001b[1;32m    260\u001b[0m \u001b[43m    \u001b[49m\u001b[43mright\u001b[49m\u001b[38;5;241;43m=\u001b[39;49m\u001b[43mright\u001b[49m\u001b[43m,\u001b[49m\n\u001b[1;32m    261\u001b[0m \u001b[43m    \u001b[49m\u001b[43mlabels\u001b[49m\u001b[38;5;241;43m=\u001b[39;49m\u001b[43mlabels\u001b[49m\u001b[43m,\u001b[49m\n\u001b[1;32m    262\u001b[0m \u001b[43m    \u001b[49m\u001b[43mprecision\u001b[49m\u001b[38;5;241;43m=\u001b[39;49m\u001b[43mprecision\u001b[49m\u001b[43m,\u001b[49m\n\u001b[1;32m    263\u001b[0m \u001b[43m    \u001b[49m\u001b[43minclude_lowest\u001b[49m\u001b[38;5;241;43m=\u001b[39;49m\u001b[43minclude_lowest\u001b[49m\u001b[43m,\u001b[49m\n\u001b[1;32m    264\u001b[0m \u001b[43m    \u001b[49m\u001b[43mduplicates\u001b[49m\u001b[38;5;241;43m=\u001b[39;49m\u001b[43mduplicates\u001b[49m\u001b[43m,\u001b[49m\n\u001b[1;32m    265\u001b[0m \u001b[43m    \u001b[49m\u001b[43mordered\u001b[49m\u001b[38;5;241;43m=\u001b[39;49m\u001b[43mordered\u001b[49m\u001b[43m,\u001b[49m\n\u001b[1;32m    266\u001b[0m \u001b[43m\u001b[49m\u001b[43m)\u001b[49m\n\u001b[1;32m    268\u001b[0m \u001b[38;5;28;01mreturn\u001b[39;00m _postprocess_for_cut(fac, bins, retbins, original)\n",
            "File \u001b[0;32m/lib/python3.12/site-packages/pandas/core/reshape/tile.py:493\u001b[0m, in \u001b[0;36m_bins_to_cuts\u001b[0;34m(x_idx, bins, right, labels, precision, include_lowest, duplicates, ordered)\u001b[0m\n\u001b[1;32m    491\u001b[0m \u001b[38;5;28;01melse\u001b[39;00m:\n\u001b[1;32m    492\u001b[0m     \u001b[38;5;28;01mif\u001b[39;00m \u001b[38;5;28mlen\u001b[39m(labels) \u001b[38;5;241m!=\u001b[39m \u001b[38;5;28mlen\u001b[39m(bins) \u001b[38;5;241m-\u001b[39m \u001b[38;5;241m1\u001b[39m:\n\u001b[0;32m--> 493\u001b[0m         \u001b[38;5;28;01mraise\u001b[39;00m \u001b[38;5;167;01mValueError\u001b[39;00m(\n\u001b[1;32m    494\u001b[0m             \u001b[38;5;124m\"\u001b[39m\u001b[38;5;124mBin labels must be one fewer than the number of bin edges\u001b[39m\u001b[38;5;124m\"\u001b[39m\n\u001b[1;32m    495\u001b[0m         )\n\u001b[1;32m    497\u001b[0m \u001b[38;5;28;01mif\u001b[39;00m \u001b[38;5;129;01mnot\u001b[39;00m \u001b[38;5;28misinstance\u001b[39m(\u001b[38;5;28mgetattr\u001b[39m(labels, \u001b[38;5;124m\"\u001b[39m\u001b[38;5;124mdtype\u001b[39m\u001b[38;5;124m\"\u001b[39m, \u001b[38;5;28;01mNone\u001b[39;00m), CategoricalDtype):\n\u001b[1;32m    498\u001b[0m     labels \u001b[38;5;241m=\u001b[39m Categorical(\n\u001b[1;32m    499\u001b[0m         labels,\n\u001b[1;32m    500\u001b[0m         categories\u001b[38;5;241m=\u001b[39mlabels \u001b[38;5;28;01mif\u001b[39;00m \u001b[38;5;28mlen\u001b[39m(\u001b[38;5;28mset\u001b[39m(labels)) \u001b[38;5;241m==\u001b[39m \u001b[38;5;28mlen\u001b[39m(labels) \u001b[38;5;28;01melse\u001b[39;00m \u001b[38;5;28;01mNone\u001b[39;00m,\n\u001b[1;32m    501\u001b[0m         ordered\u001b[38;5;241m=\u001b[39mordered,\n\u001b[1;32m    502\u001b[0m     )\n",
            "\u001b[0;31mValueError\u001b[0m: Bin labels must be one fewer than the number of bin edges"
          ],
          "output_type": "error"
        }
      ],
      "execution_count": 77
    },
    {
      "cell_type": "code",
      "source": "#Binning\n\nbins=np.linspace(df['Price'].min(),df['Price'].max(), 4)\nCategories={'Low','Medium','High'}\ndf['Price-binned']=pd.cut(df['Price'], bins, labels=Categories, include_lowest=True)",
      "metadata": {
        "trusted": true
      },
      "outputs": [],
      "execution_count": 78
    },
    {
      "cell_type": "code",
      "source": "plt.bar(Categories, df['Price-binned'].value_counts()\n      plt.xlabel('Price')\n        plt.ylabel('Count')\n        plt.title('Price bins')",
      "metadata": {
        "trusted": true
      },
      "outputs": [
        {
          "ename": "<class 'SyntaxError'>",
          "evalue": "'(' was never closed (<ipython-input-79-5ee3b1dcd861>, line 1)",
          "traceback": [
            "\u001b[0;36m  Cell \u001b[0;32mIn[79], line 1\u001b[0;36m\u001b[0m\n\u001b[0;31m    plt.bar(Categories, df['Price-binned'].value_counts()\u001b[0m\n\u001b[0m           ^\u001b[0m\n\u001b[0;31mSyntaxError\u001b[0m\u001b[0;31m:\u001b[0m '(' was never closed\n"
          ],
          "output_type": "error"
        }
      ],
      "execution_count": 79
    },
    {
      "cell_type": "code",
      "source": "plt.bar(Categories, df['Price-binned'].value_counts())\n      plt.xlabel('Price')\n        plt.ylabel('Count')\n        plt.title('Price bins')",
      "metadata": {
        "trusted": true
      },
      "outputs": [
        {
          "ename": "<class 'IndentationError'>",
          "evalue": "unexpected indent (<ipython-input-80-891832954683>, line 2)",
          "traceback": [
            "\u001b[0;36m  Cell \u001b[0;32mIn[80], line 2\u001b[0;36m\u001b[0m\n\u001b[0;31m    plt.xlabel('Price')\u001b[0m\n\u001b[0m    ^\u001b[0m\n\u001b[0;31mIndentationError\u001b[0m\u001b[0;31m:\u001b[0m unexpected indent\n"
          ],
          "output_type": "error"
        }
      ],
      "execution_count": 80
    },
    {
      "cell_type": "code",
      "source": "plt.bar(Categories, df['Price-binned'].value_counts())\n      plt.xlabel('Price')\n        plt.ylabel('Count')\n        plt.title('Price bins'",
      "metadata": {
        "trusted": true
      },
      "outputs": [
        {
          "ename": "<class 'IndentationError'>",
          "evalue": "unexpected indent (<ipython-input-81-0a5f4d428669>, line 2)",
          "traceback": [
            "\u001b[0;36m  Cell \u001b[0;32mIn[81], line 2\u001b[0;36m\u001b[0m\n\u001b[0;31m    plt.xlabel('Price')\u001b[0m\n\u001b[0m    ^\u001b[0m\n\u001b[0;31mIndentationError\u001b[0m\u001b[0;31m:\u001b[0m unexpected indent\n"
          ],
          "output_type": "error"
        }
      ],
      "execution_count": 81
    },
    {
      "cell_type": "code",
      "source": "plt.bar(Categories, df['Price-binned'].value_counts())\n      plt.xlabel('Price')\n        plt.ylabel('Count')\n        plt.title('Price bins')",
      "metadata": {
        "trusted": true
      },
      "outputs": [
        {
          "ename": "<class 'IndentationError'>",
          "evalue": "unexpected indent (<ipython-input-82-891832954683>, line 2)",
          "traceback": [
            "\u001b[0;36m  Cell \u001b[0;32mIn[82], line 2\u001b[0;36m\u001b[0m\n\u001b[0;31m    plt.xlabel('Price')\u001b[0m\n\u001b[0m    ^\u001b[0m\n\u001b[0;31mIndentationError\u001b[0m\u001b[0;31m:\u001b[0m unexpected indent\n"
          ],
          "output_type": "error"
        }
      ],
      "execution_count": 82
    },
    {
      "cell_type": "code",
      "source": "plt.bar(Categories, df['Price-binned'].value_counts())\n      plt.xlabel('Price')\n      plt.ylabel('count')\n      plt.title('Price bins')",
      "metadata": {
        "trusted": true
      },
      "outputs": [
        {
          "ename": "<class 'IndentationError'>",
          "evalue": "unexpected indent (<ipython-input-84-b959baff66bf>, line 2)",
          "traceback": [
            "\u001b[0;36m  Cell \u001b[0;32mIn[84], line 2\u001b[0;36m\u001b[0m\n\u001b[0;31m    plt.xlabel('Price')\u001b[0m\n\u001b[0m    ^\u001b[0m\n\u001b[0;31mIndentationError\u001b[0m\u001b[0;31m:\u001b[0m unexpected indent\n"
          ],
          "output_type": "error"
        }
      ],
      "execution_count": 84
    },
    {
      "cell_type": "code",
      "source": "plt.bar(Categories, df['Price-binned'].value_counts())\n      plt.xlabel('Prices')\n      plt.ylabel('count')\n      plt.title('Price bins')",
      "metadata": {
        "trusted": true
      },
      "outputs": [
        {
          "ename": "<class 'IndentationError'>",
          "evalue": "unexpected indent (<ipython-input-85-918e785c9d92>, line 2)",
          "traceback": [
            "\u001b[0;36m  Cell \u001b[0;32mIn[85], line 2\u001b[0;36m\u001b[0m\n\u001b[0;31m    plt.xlabel('Prices')\u001b[0m\n\u001b[0m    ^\u001b[0m\n\u001b[0;31mIndentationError\u001b[0m\u001b[0;31m:\u001b[0m unexpected indent\n"
          ],
          "output_type": "error"
        }
      ],
      "execution_count": 85
    },
    {
      "cell_type": "code",
      "source": "plt.bar(Categories, df['Price-binned'].value_counts())\n      plt.xlabel(\"Price\")\n      plt.ylabel(\"count\")\n      plt.title(\"Price bins\")",
      "metadata": {
        "trusted": true
      },
      "outputs": [
        {
          "ename": "<class 'IndentationError'>",
          "evalue": "unexpected indent (<ipython-input-86-e6ddc694ee79>, line 2)",
          "traceback": [
            "\u001b[0;36m  Cell \u001b[0;32mIn[86], line 2\u001b[0;36m\u001b[0m\n\u001b[0;31m    plt.xlabel(\"Price\")\u001b[0m\n\u001b[0m    ^\u001b[0m\n\u001b[0;31mIndentationError\u001b[0m\u001b[0;31m:\u001b[0m unexpected indent\n"
          ],
          "output_type": "error"
        }
      ],
      "execution_count": 86
    },
    {
      "cell_type": "code",
      "source": "plt.bar(Categories, df[\"Price-binned\"].value_counts())\nplt.xlabel(\"Price\")\nplt.ylabel(\"count\")\nplt.title(\"Price bins\")",
      "metadata": {
        "trusted": true
      },
      "outputs": [
        {
          "output_type": "display_data",
          "data": {
            "text/plain": "<Figure size 640x480 with 1 Axes>",
            "image/png": "[encoded data removed]"
          },
          "metadata": {}
        },
        {
          "ename": "<class 'TypeError'>",
          "evalue": "unhashable type: 'set'",
          "traceback": [
            "\u001b[0;31m---------------------------------------------------------------------------\u001b[0m",
            "\u001b[0;31mTypeError\u001b[0m                                 Traceback (most recent call last)",
            "Cell \u001b[0;32mIn[87], line 1\u001b[0m\n\u001b[0;32m----> 1\u001b[0m \u001b[43mplt\u001b[49m\u001b[38;5;241;43m.\u001b[39;49m\u001b[43mbar\u001b[49m\u001b[43m(\u001b[49m\u001b[43mCategories\u001b[49m\u001b[43m,\u001b[49m\u001b[43m \u001b[49m\u001b[43mdf\u001b[49m\u001b[43m[\u001b[49m\u001b[38;5;124;43m\"\u001b[39;49m\u001b[38;5;124;43mPrice-binned\u001b[39;49m\u001b[38;5;124;43m\"\u001b[39;49m\u001b[43m]\u001b[49m\u001b[38;5;241;43m.\u001b[39;49m\u001b[43mvalue_counts\u001b[49m\u001b[43m(\u001b[49m\u001b[43m)\u001b[49m\u001b[43m)\u001b[49m\n\u001b[1;32m      2\u001b[0m plt\u001b[38;5;241m.\u001b[39mxlabel(\u001b[38;5;124m\"\u001b[39m\u001b[38;5;124mPrice\u001b[39m\u001b[38;5;124m\"\u001b[39m)\n\u001b[1;32m      3\u001b[0m plt\u001b[38;5;241m.\u001b[39mylabel(\u001b[38;5;124m\"\u001b[39m\u001b[38;5;124mcount\u001b[39m\u001b[38;5;124m\"\u001b[39m)\n",
            "File \u001b[0;32m/lib/python3.12/site-packages/matplotlib/pyplot.py:2399\u001b[0m, in \u001b[0;36mbar\u001b[0;34m(x, height, width, bottom, align, data, **kwargs)\u001b[0m\n\u001b[1;32m   2395\u001b[0m \u001b[38;5;129m@_copy_docstring_and_deprecators\u001b[39m(Axes\u001b[38;5;241m.\u001b[39mbar)\n\u001b[1;32m   2396\u001b[0m \u001b[38;5;28;01mdef\u001b[39;00m \u001b[38;5;21mbar\u001b[39m(\n\u001b[1;32m   2397\u001b[0m         x, height, width\u001b[38;5;241m=\u001b[39m\u001b[38;5;241m0.8\u001b[39m, bottom\u001b[38;5;241m=\u001b[39m\u001b[38;5;28;01mNone\u001b[39;00m, \u001b[38;5;241m*\u001b[39m, align\u001b[38;5;241m=\u001b[39m\u001b[38;5;124m'\u001b[39m\u001b[38;5;124mcenter\u001b[39m\u001b[38;5;124m'\u001b[39m,\n\u001b[1;32m   2398\u001b[0m         data\u001b[38;5;241m=\u001b[39m\u001b[38;5;28;01mNone\u001b[39;00m, \u001b[38;5;241m*\u001b[39m\u001b[38;5;241m*\u001b[39mkwargs):\n\u001b[0;32m-> 2399\u001b[0m     \u001b[38;5;28;01mreturn\u001b[39;00m \u001b[43mgca\u001b[49m\u001b[43m(\u001b[49m\u001b[43m)\u001b[49m\u001b[38;5;241;43m.\u001b[39;49m\u001b[43mbar\u001b[49m\u001b[43m(\u001b[49m\n\u001b[1;32m   2400\u001b[0m \u001b[43m        \u001b[49m\u001b[43mx\u001b[49m\u001b[43m,\u001b[49m\u001b[43m \u001b[49m\u001b[43mheight\u001b[49m\u001b[43m,\u001b[49m\u001b[43m \u001b[49m\u001b[43mwidth\u001b[49m\u001b[38;5;241;43m=\u001b[39;49m\u001b[43mwidth\u001b[49m\u001b[43m,\u001b[49m\u001b[43m \u001b[49m\u001b[43mbottom\u001b[49m\u001b[38;5;241;43m=\u001b[39;49m\u001b[43mbottom\u001b[49m\u001b[43m,\u001b[49m\u001b[43m \u001b[49m\u001b[43malign\u001b[49m\u001b[38;5;241;43m=\u001b[39;49m\u001b[43malign\u001b[49m\u001b[43m,\u001b[49m\n\u001b[1;32m   2401\u001b[0m \u001b[43m        \u001b[49m\u001b[38;5;241;43m*\u001b[39;49m\u001b[38;5;241;43m*\u001b[39;49m\u001b[43m(\u001b[49m\u001b[43m{\u001b[49m\u001b[38;5;124;43m\"\u001b[39;49m\u001b[38;5;124;43mdata\u001b[39;49m\u001b[38;5;124;43m\"\u001b[39;49m\u001b[43m:\u001b[49m\u001b[43m \u001b[49m\u001b[43mdata\u001b[49m\u001b[43m}\u001b[49m\u001b[43m \u001b[49m\u001b[38;5;28;43;01mif\u001b[39;49;00m\u001b[43m \u001b[49m\u001b[43mdata\u001b[49m\u001b[43m \u001b[49m\u001b[38;5;129;43;01mis\u001b[39;49;00m\u001b[43m \u001b[49m\u001b[38;5;129;43;01mnot\u001b[39;49;00m\u001b[43m \u001b[49m\u001b[38;5;28;43;01mNone\u001b[39;49;00m\u001b[43m \u001b[49m\u001b[38;5;28;43;01melse\u001b[39;49;00m\u001b[43m \u001b[49m\u001b[43m{\u001b[49m\u001b[43m}\u001b[49m\u001b[43m)\u001b[49m\u001b[43m,\u001b[49m\u001b[43m \u001b[49m\u001b[38;5;241;43m*\u001b[39;49m\u001b[38;5;241;43m*\u001b[39;49m\u001b[43mkwargs\u001b[49m\u001b[43m)\u001b[49m\n",
            "File \u001b[0;32m/lib/python3.12/site-packages/matplotlib/__init__.py:1412\u001b[0m, in \u001b[0;36m_preprocess_data.<locals>.inner\u001b[0;34m(ax, data, *args, **kwargs)\u001b[0m\n\u001b[1;32m   1409\u001b[0m \u001b[38;5;129m@functools\u001b[39m\u001b[38;5;241m.\u001b[39mwraps(func)\n\u001b[1;32m   1410\u001b[0m \u001b[38;5;28;01mdef\u001b[39;00m \u001b[38;5;21minner\u001b[39m(ax, \u001b[38;5;241m*\u001b[39margs, data\u001b[38;5;241m=\u001b[39m\u001b[38;5;28;01mNone\u001b[39;00m, \u001b[38;5;241m*\u001b[39m\u001b[38;5;241m*\u001b[39mkwargs):\n\u001b[1;32m   1411\u001b[0m     \u001b[38;5;28;01mif\u001b[39;00m data \u001b[38;5;129;01mis\u001b[39;00m \u001b[38;5;28;01mNone\u001b[39;00m:\n\u001b[0;32m-> 1412\u001b[0m         \u001b[38;5;28;01mreturn\u001b[39;00m \u001b[43mfunc\u001b[49m\u001b[43m(\u001b[49m\u001b[43max\u001b[49m\u001b[43m,\u001b[49m\u001b[43m \u001b[49m\u001b[38;5;241;43m*\u001b[39;49m\u001b[38;5;28;43mmap\u001b[39;49m\u001b[43m(\u001b[49m\u001b[43msanitize_sequence\u001b[49m\u001b[43m,\u001b[49m\u001b[43m \u001b[49m\u001b[43margs\u001b[49m\u001b[43m)\u001b[49m\u001b[43m,\u001b[49m\u001b[43m \u001b[49m\u001b[38;5;241;43m*\u001b[39;49m\u001b[38;5;241;43m*\u001b[39;49m\u001b[43mkwargs\u001b[49m\u001b[43m)\u001b[49m\n\u001b[1;32m   1414\u001b[0m     bound \u001b[38;5;241m=\u001b[39m new_sig\u001b[38;5;241m.\u001b[39mbind(ax, \u001b[38;5;241m*\u001b[39margs, \u001b[38;5;241m*\u001b[39m\u001b[38;5;241m*\u001b[39mkwargs)\n\u001b[1;32m   1415\u001b[0m     auto_label \u001b[38;5;241m=\u001b[39m (bound\u001b[38;5;241m.\u001b[39marguments\u001b[38;5;241m.\u001b[39mget(label_namer)\n\u001b[1;32m   1416\u001b[0m                   \u001b[38;5;129;01mor\u001b[39;00m bound\u001b[38;5;241m.\u001b[39mkwargs\u001b[38;5;241m.\u001b[39mget(label_namer))\n",
            "File \u001b[0;32m/lib/python3.12/site-packages/matplotlib/axes/_axes.py:2317\u001b[0m, in \u001b[0;36mAxes.bar\u001b[0;34m(self, x, height, width, bottom, align, **kwargs)\u001b[0m\n\u001b[1;32m   2314\u001b[0m         x \u001b[38;5;241m=\u001b[39m \u001b[38;5;241m0\u001b[39m\n\u001b[1;32m   2316\u001b[0m \u001b[38;5;28;01mif\u001b[39;00m orientation \u001b[38;5;241m==\u001b[39m \u001b[38;5;124m'\u001b[39m\u001b[38;5;124mvertical\u001b[39m\u001b[38;5;124m'\u001b[39m:\n\u001b[0;32m-> 2317\u001b[0m     \u001b[38;5;28;43mself\u001b[39;49m\u001b[38;5;241;43m.\u001b[39;49m\u001b[43m_process_unit_info\u001b[49m\u001b[43m(\u001b[49m\n\u001b[1;32m   2318\u001b[0m \u001b[43m        \u001b[49m\u001b[43m[\u001b[49m\u001b[43m(\u001b[49m\u001b[38;5;124;43m\"\u001b[39;49m\u001b[38;5;124;43mx\u001b[39;49m\u001b[38;5;124;43m\"\u001b[39;49m\u001b[43m,\u001b[49m\u001b[43m \u001b[49m\u001b[43mx\u001b[49m\u001b[43m)\u001b[49m\u001b[43m,\u001b[49m\u001b[43m \u001b[49m\u001b[43m(\u001b[49m\u001b[38;5;124;43m\"\u001b[39;49m\u001b[38;5;124;43my\u001b[39;49m\u001b[38;5;124;43m\"\u001b[39;49m\u001b[43m,\u001b[49m\u001b[43m \u001b[49m\u001b[43mheight\u001b[49m\u001b[43m)\u001b[49m\u001b[43m]\u001b[49m\u001b[43m,\u001b[49m\u001b[43m \u001b[49m\u001b[43mkwargs\u001b[49m\u001b[43m,\u001b[49m\u001b[43m \u001b[49m\u001b[43mconvert\u001b[49m\u001b[38;5;241;43m=\u001b[39;49m\u001b[38;5;28;43;01mFalse\u001b[39;49;00m\u001b[43m)\u001b[49m\n\u001b[1;32m   2319\u001b[0m     \u001b[38;5;28;01mif\u001b[39;00m log:\n\u001b[1;32m   2320\u001b[0m         \u001b[38;5;28mself\u001b[39m\u001b[38;5;241m.\u001b[39mset_yscale(\u001b[38;5;124m'\u001b[39m\u001b[38;5;124mlog\u001b[39m\u001b[38;5;124m'\u001b[39m, nonpositive\u001b[38;5;241m=\u001b[39m\u001b[38;5;124m'\u001b[39m\u001b[38;5;124mclip\u001b[39m\u001b[38;5;124m'\u001b[39m)\n",
            "File \u001b[0;32m/lib/python3.12/site-packages/matplotlib/axes/_base.py:2526\u001b[0m, in \u001b[0;36m_AxesBase._process_unit_info\u001b[0;34m(self, datasets, kwargs, convert)\u001b[0m\n\u001b[1;32m   2524\u001b[0m     \u001b[38;5;66;03m# Update from data if axis is already set but no unit is set yet.\u001b[39;00m\n\u001b[1;32m   2525\u001b[0m     \u001b[38;5;28;01mif\u001b[39;00m axis \u001b[38;5;129;01mis\u001b[39;00m \u001b[38;5;129;01mnot\u001b[39;00m \u001b[38;5;28;01mNone\u001b[39;00m \u001b[38;5;129;01mand\u001b[39;00m data \u001b[38;5;129;01mis\u001b[39;00m \u001b[38;5;129;01mnot\u001b[39;00m \u001b[38;5;28;01mNone\u001b[39;00m \u001b[38;5;129;01mand\u001b[39;00m \u001b[38;5;129;01mnot\u001b[39;00m axis\u001b[38;5;241m.\u001b[39mhave_units():\n\u001b[0;32m-> 2526\u001b[0m         \u001b[43maxis\u001b[49m\u001b[38;5;241;43m.\u001b[39;49m\u001b[43mupdate_units\u001b[49m\u001b[43m(\u001b[49m\u001b[43mdata\u001b[49m\u001b[43m)\u001b[49m\n\u001b[1;32m   2527\u001b[0m \u001b[38;5;28;01mfor\u001b[39;00m axis_name, axis \u001b[38;5;129;01min\u001b[39;00m axis_map\u001b[38;5;241m.\u001b[39mitems():\n\u001b[1;32m   2528\u001b[0m     \u001b[38;5;66;03m# Return if no axis is set.\u001b[39;00m\n\u001b[1;32m   2529\u001b[0m     \u001b[38;5;28;01mif\u001b[39;00m axis \u001b[38;5;129;01mis\u001b[39;00m \u001b[38;5;28;01mNone\u001b[39;00m:\n",
            "File \u001b[0;32m/lib/python3.12/site-packages/matplotlib/axis.py:1449\u001b[0m, in \u001b[0;36mAxis.update_units\u001b[0;34m(self, data)\u001b[0m\n\u001b[1;32m   1447\u001b[0m neednew \u001b[38;5;241m=\u001b[39m \u001b[38;5;28mself\u001b[39m\u001b[38;5;241m.\u001b[39mconverter \u001b[38;5;241m!=\u001b[39m converter\n\u001b[1;32m   1448\u001b[0m \u001b[38;5;28mself\u001b[39m\u001b[38;5;241m.\u001b[39mconverter \u001b[38;5;241m=\u001b[39m converter\n\u001b[0;32m-> 1449\u001b[0m default \u001b[38;5;241m=\u001b[39m \u001b[38;5;28;43mself\u001b[39;49m\u001b[38;5;241;43m.\u001b[39;49m\u001b[43mconverter\u001b[49m\u001b[38;5;241;43m.\u001b[39;49m\u001b[43mdefault_units\u001b[49m\u001b[43m(\u001b[49m\u001b[43mdata\u001b[49m\u001b[43m,\u001b[49m\u001b[43m \u001b[49m\u001b[38;5;28;43mself\u001b[39;49m\u001b[43m)\u001b[49m\n\u001b[1;32m   1450\u001b[0m \u001b[38;5;28;01mif\u001b[39;00m default \u001b[38;5;129;01mis\u001b[39;00m \u001b[38;5;129;01mnot\u001b[39;00m \u001b[38;5;28;01mNone\u001b[39;00m \u001b[38;5;129;01mand\u001b[39;00m \u001b[38;5;28mself\u001b[39m\u001b[38;5;241m.\u001b[39munits \u001b[38;5;129;01mis\u001b[39;00m \u001b[38;5;28;01mNone\u001b[39;00m:\n\u001b[1;32m   1451\u001b[0m     \u001b[38;5;28mself\u001b[39m\u001b[38;5;241m.\u001b[39mset_units(default)\n",
            "File \u001b[0;32m/lib/python3.12/site-packages/matplotlib/category.py:116\u001b[0m, in \u001b[0;36mStrCategoryConverter.default_units\u001b[0;34m(data, axis)\u001b[0m\n\u001b[1;32m    114\u001b[0m \u001b[38;5;66;03m# the conversion call stack is default_units -> axis_info -> convert\u001b[39;00m\n\u001b[1;32m    115\u001b[0m \u001b[38;5;28;01mif\u001b[39;00m axis\u001b[38;5;241m.\u001b[39munits \u001b[38;5;129;01mis\u001b[39;00m \u001b[38;5;28;01mNone\u001b[39;00m:\n\u001b[0;32m--> 116\u001b[0m     axis\u001b[38;5;241m.\u001b[39mset_units(\u001b[43mUnitData\u001b[49m\u001b[43m(\u001b[49m\u001b[43mdata\u001b[49m\u001b[43m)\u001b[49m)\n\u001b[1;32m    117\u001b[0m \u001b[38;5;28;01melse\u001b[39;00m:\n\u001b[1;32m    118\u001b[0m     axis\u001b[38;5;241m.\u001b[39munits\u001b[38;5;241m.\u001b[39mupdate(data)\n",
            "File \u001b[0;32m/lib/python3.12/site-packages/matplotlib/category.py:192\u001b[0m, in \u001b[0;36mUnitData.__init__\u001b[0;34m(self, data)\u001b[0m\n\u001b[1;32m    190\u001b[0m \u001b[38;5;28mself\u001b[39m\u001b[38;5;241m.\u001b[39m_counter \u001b[38;5;241m=\u001b[39m itertools\u001b[38;5;241m.\u001b[39mcount()\n\u001b[1;32m    191\u001b[0m \u001b[38;5;28;01mif\u001b[39;00m data \u001b[38;5;129;01mis\u001b[39;00m \u001b[38;5;129;01mnot\u001b[39;00m \u001b[38;5;28;01mNone\u001b[39;00m:\n\u001b[0;32m--> 192\u001b[0m     \u001b[38;5;28;43mself\u001b[39;49m\u001b[38;5;241;43m.\u001b[39;49m\u001b[43mupdate\u001b[49m\u001b[43m(\u001b[49m\u001b[43mdata\u001b[49m\u001b[43m)\u001b[49m\n",
            "File \u001b[0;32m/lib/python3.12/site-packages/matplotlib/category.py:225\u001b[0m, in \u001b[0;36mUnitData.update\u001b[0;34m(self, data)\u001b[0m\n\u001b[1;32m    223\u001b[0m \u001b[38;5;66;03m# check if convertible to number:\u001b[39;00m\n\u001b[1;32m    224\u001b[0m convertible \u001b[38;5;241m=\u001b[39m \u001b[38;5;28;01mTrue\u001b[39;00m\n\u001b[0;32m--> 225\u001b[0m \u001b[38;5;28;01mfor\u001b[39;00m val \u001b[38;5;129;01min\u001b[39;00m \u001b[43mOrderedDict\u001b[49m\u001b[38;5;241;43m.\u001b[39;49m\u001b[43mfromkeys\u001b[49m\u001b[43m(\u001b[49m\u001b[43mdata\u001b[49m\u001b[43m)\u001b[49m:\n\u001b[1;32m    226\u001b[0m     \u001b[38;5;66;03m# OrderedDict just iterates over unique values in data.\u001b[39;00m\n\u001b[1;32m    227\u001b[0m     _api\u001b[38;5;241m.\u001b[39mcheck_isinstance((\u001b[38;5;28mstr\u001b[39m, \u001b[38;5;28mbytes\u001b[39m), value\u001b[38;5;241m=\u001b[39mval)\n\u001b[1;32m    228\u001b[0m     \u001b[38;5;28;01mif\u001b[39;00m convertible:\n\u001b[1;32m    229\u001b[0m         \u001b[38;5;66;03m# this will only be called so long as convertible is True.\u001b[39;00m\n",
            "\u001b[0;31mTypeError\u001b[0m: unhashable type: 'set'"
          ],
          "output_type": "error"
        }
      ],
      "execution_count": 87
    },
    {
      "cell_type": "code",
      "source": "bins = np.linspace(min(df[\"Price\"]), max(df[\"Price\"]), 4)\ngroup_names = ['Low', 'Medium', 'High']\ndf['Price-binned'] = pd.cut(df['Price'], bins, labels=group_names, include_lowest=True )",
      "metadata": {
        "trusted": true
      },
      "outputs": [],
      "execution_count": 88
    },
    {
      "cell_type": "code",
      "source": "plt.bar(group_names, df[\"Price-binned\"].value_counts())\nplt.xlabel(\"Price\")\nplt.ylabel(\"count\")\nplt.title(\"Price bins\")",
      "metadata": {
        "trusted": true
      },
      "outputs": [
        {
          "execution_count": 89,
          "output_type": "execute_result",
          "data": {
            "text/plain": "Text(0.5, 1.0, 'Price bins')"
          },
          "metadata": {}
        },
        {
          "output_type": "display_data",
          "data": {
            "text/plain": "<Figure size 640x480 with 1 Axes>",
            "image/png": "[encoded data removed]"
          },
          "metadata": {}
        }
      ],
      "execution_count": 89
    },
    {
      "cell_type": "code",
      "source": "#Indicator Variable: Screen\ndummy_variable_1 = pd.get_dummies(df[\"Screen\"])\ndummy_variable_1.rename(columns={'IPS Panel':'Screen-IPS_panel', 'Full HD':'Screen-Full_HD'}, inplace=True)\ndf = pd.concat([df, dummy_variable_1], axis=1)\n\n# drop original column \"Screen\" from \"df\"\ndf.drop(\"Screen\", axis = 1, inplace=True)",
      "metadata": {
        "trusted": true
      },
      "outputs": [],
      "execution_count": 90
    },
    {
      "cell_type": "code",
      "source": "df.to_csv(\"laptops_final.csv\")",
      "metadata": {
        "trusted": true
      },
      "outputs": [],
      "execution_count": 91
    },
    {
      "cell_type": "code",
      "source": "",
      "metadata": {
        "trusted": true
      },
      "outputs": [],
      "execution_count": null
    }
  ]
}